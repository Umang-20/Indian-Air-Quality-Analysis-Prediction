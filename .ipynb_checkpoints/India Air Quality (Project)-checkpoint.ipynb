{
 "cells": [
  {
   "cell_type": "markdown",
   "metadata": {},
   "source": [
    "# INDIA AIR QUALITY DATA ANALYSIS, VISUALISATION AND PREDICTION\n",
    "<h6>Project by: Ashmita Dutta</h6>\n",
    "<h6>Place: National Institute of Technology, Meghalaya</h6>\n",
    "<h6>Supervisor: Diptendu Sinha Roy</h6>\n"
   ]
  },
  {
   "cell_type": "markdown",
   "metadata": {},
   "source": [
    "<h2>Aim</h2>\n",
    "<p>To do data analysis on India Air Quality data and predict tha value of Air Quality Index based on given features of concentration of sulphur dioxide,nitrogen dioxide, respirable suspended particualte matter, suspended particulate matter and classify the Air Quality as good, moderate, poor, unhealthy, healthy.</p>\n",
    "<p>The data is combined(across the years and states) and largely clean version of the Historical Daily Ambient Air Quality Data released by the Ministry of Environment and Forests and Central Pollution Control Board of India under the National Data Sharing and Accessibility Policy (NDSAP)\n",
    "year 1990-2015</p>\n",
    "<h4><p>The columns are</h4>\n",
    "<li>stn_code (station code)</li>\n",
    "<li>sampling_date (date of sample collection)</li>\n",
    "<li>state (Indian State)</li>\n",
    "<li>location (location of sample collection)</li>\n",
    "<li>agency</li>\n",
    "<li>type (type of area)</li>\n",
    "<li>so2 (sulphur dioxide concentration)</li>\n",
    "<li>no2 (nitrogen dioxide concentration)</li>\n",
    "<li>rspm (respirable suspended particualte matter concentration)</li>\n",
    "<li>spm (suspended particulate matter)</li>\n",
    "<li>location_monitoring_station</li>\n",
    "<li>pm2_5 (particulate matter 2.5)</li>\t\n",
    "<li>date</li>\n",
    "</p>\n",
    "\n",
    "\n"
   ]
  },
  {
   "cell_type": "code",
   "execution_count": 308,
   "metadata": {
    "_cell_guid": "b1076dfc-b9ad-4769-8c92-a6c4dae69d19",
    "_uuid": "8f2839f25d086af736a60e9eeb907d3b93b6e0e5",
    "collapsed": true
   },
   "outputs": [],
   "source": [
    "import numpy as np \n",
    "import pandas as pd \n",
    "import seaborn as sns\n",
    "import matplotlib.pyplot as plt\n",
    "import timeit\n",
    "%matplotlib inline"
   ]
  },
  {
   "cell_type": "code",
   "execution_count": 309,
   "metadata": {
    "_cell_guid": "79c7e3d0-c299-4dcb-8224-4455121ee9b0",
    "_uuid": "d629ff2d2480ee46fbb7e2d37f6b5fab8052498a"
   },
   "outputs": [],
   "source": [
    "data = pd.read_csv('Dataset/data.csv') #import data "
   ]
  },
  {
   "cell_type": "code",
   "execution_count": 310,
   "metadata": {},
   "outputs": [
    {
     "data": {
      "text/html": [
       "<div>\n",
       "<style scoped>\n",
       "    .dataframe tbody tr th:only-of-type {\n",
       "        vertical-align: middle;\n",
       "    }\n",
       "\n",
       "    .dataframe tbody tr th {\n",
       "        vertical-align: top;\n",
       "    }\n",
       "\n",
       "    .dataframe thead th {\n",
       "        text-align: right;\n",
       "    }\n",
       "</style>\n",
       "<table border=\"1\" class=\"dataframe\">\n",
       "  <thead>\n",
       "    <tr style=\"text-align: right;\">\n",
       "      <th></th>\n",
       "      <th>stn_code</th>\n",
       "      <th>sampling_date</th>\n",
       "      <th>state</th>\n",
       "      <th>location</th>\n",
       "      <th>agency</th>\n",
       "      <th>type</th>\n",
       "      <th>so2</th>\n",
       "      <th>no2</th>\n",
       "      <th>rspm</th>\n",
       "      <th>spm</th>\n",
       "      <th>location_monitoring_station</th>\n",
       "      <th>pm2_5</th>\n",
       "      <th>date</th>\n",
       "    </tr>\n",
       "  </thead>\n",
       "  <tbody>\n",
       "    <tr>\n",
       "      <th>0</th>\n",
       "      <td>150</td>\n",
       "      <td>February - M021990</td>\n",
       "      <td>Andhra Pradesh</td>\n",
       "      <td>Hyderabad</td>\n",
       "      <td>NaN</td>\n",
       "      <td>Residential, Rural and other Areas</td>\n",
       "      <td>4.8</td>\n",
       "      <td>17.4</td>\n",
       "      <td>NaN</td>\n",
       "      <td>NaN</td>\n",
       "      <td>NaN</td>\n",
       "      <td>NaN</td>\n",
       "      <td>1990-02-01</td>\n",
       "    </tr>\n",
       "    <tr>\n",
       "      <th>1</th>\n",
       "      <td>151</td>\n",
       "      <td>February - M021990</td>\n",
       "      <td>Andhra Pradesh</td>\n",
       "      <td>Hyderabad</td>\n",
       "      <td>NaN</td>\n",
       "      <td>Industrial Area</td>\n",
       "      <td>3.1</td>\n",
       "      <td>7.0</td>\n",
       "      <td>NaN</td>\n",
       "      <td>NaN</td>\n",
       "      <td>NaN</td>\n",
       "      <td>NaN</td>\n",
       "      <td>1990-02-01</td>\n",
       "    </tr>\n",
       "    <tr>\n",
       "      <th>2</th>\n",
       "      <td>152</td>\n",
       "      <td>February - M021990</td>\n",
       "      <td>Andhra Pradesh</td>\n",
       "      <td>Hyderabad</td>\n",
       "      <td>NaN</td>\n",
       "      <td>Residential, Rural and other Areas</td>\n",
       "      <td>6.2</td>\n",
       "      <td>28.5</td>\n",
       "      <td>NaN</td>\n",
       "      <td>NaN</td>\n",
       "      <td>NaN</td>\n",
       "      <td>NaN</td>\n",
       "      <td>1990-02-01</td>\n",
       "    </tr>\n",
       "    <tr>\n",
       "      <th>3</th>\n",
       "      <td>150</td>\n",
       "      <td>March - M031990</td>\n",
       "      <td>Andhra Pradesh</td>\n",
       "      <td>Hyderabad</td>\n",
       "      <td>NaN</td>\n",
       "      <td>Residential, Rural and other Areas</td>\n",
       "      <td>6.3</td>\n",
       "      <td>14.7</td>\n",
       "      <td>NaN</td>\n",
       "      <td>NaN</td>\n",
       "      <td>NaN</td>\n",
       "      <td>NaN</td>\n",
       "      <td>1990-03-01</td>\n",
       "    </tr>\n",
       "    <tr>\n",
       "      <th>4</th>\n",
       "      <td>151</td>\n",
       "      <td>March - M031990</td>\n",
       "      <td>Andhra Pradesh</td>\n",
       "      <td>Hyderabad</td>\n",
       "      <td>NaN</td>\n",
       "      <td>Industrial Area</td>\n",
       "      <td>4.7</td>\n",
       "      <td>7.5</td>\n",
       "      <td>NaN</td>\n",
       "      <td>NaN</td>\n",
       "      <td>NaN</td>\n",
       "      <td>NaN</td>\n",
       "      <td>1990-03-01</td>\n",
       "    </tr>\n",
       "    <tr>\n",
       "      <th>5</th>\n",
       "      <td>152</td>\n",
       "      <td>March - M031990</td>\n",
       "      <td>Andhra Pradesh</td>\n",
       "      <td>Hyderabad</td>\n",
       "      <td>NaN</td>\n",
       "      <td>Residential, Rural and other Areas</td>\n",
       "      <td>6.4</td>\n",
       "      <td>25.7</td>\n",
       "      <td>NaN</td>\n",
       "      <td>NaN</td>\n",
       "      <td>NaN</td>\n",
       "      <td>NaN</td>\n",
       "      <td>1990-03-01</td>\n",
       "    </tr>\n",
       "    <tr>\n",
       "      <th>6</th>\n",
       "      <td>150</td>\n",
       "      <td>April - M041990</td>\n",
       "      <td>Andhra Pradesh</td>\n",
       "      <td>Hyderabad</td>\n",
       "      <td>NaN</td>\n",
       "      <td>Residential, Rural and other Areas</td>\n",
       "      <td>5.4</td>\n",
       "      <td>17.1</td>\n",
       "      <td>NaN</td>\n",
       "      <td>NaN</td>\n",
       "      <td>NaN</td>\n",
       "      <td>NaN</td>\n",
       "      <td>1990-04-01</td>\n",
       "    </tr>\n",
       "    <tr>\n",
       "      <th>7</th>\n",
       "      <td>151</td>\n",
       "      <td>April - M041990</td>\n",
       "      <td>Andhra Pradesh</td>\n",
       "      <td>Hyderabad</td>\n",
       "      <td>NaN</td>\n",
       "      <td>Industrial Area</td>\n",
       "      <td>4.7</td>\n",
       "      <td>8.7</td>\n",
       "      <td>NaN</td>\n",
       "      <td>NaN</td>\n",
       "      <td>NaN</td>\n",
       "      <td>NaN</td>\n",
       "      <td>1990-04-01</td>\n",
       "    </tr>\n",
       "    <tr>\n",
       "      <th>8</th>\n",
       "      <td>152</td>\n",
       "      <td>April - M041990</td>\n",
       "      <td>Andhra Pradesh</td>\n",
       "      <td>Hyderabad</td>\n",
       "      <td>NaN</td>\n",
       "      <td>Residential, Rural and other Areas</td>\n",
       "      <td>4.2</td>\n",
       "      <td>23.0</td>\n",
       "      <td>NaN</td>\n",
       "      <td>NaN</td>\n",
       "      <td>NaN</td>\n",
       "      <td>NaN</td>\n",
       "      <td>1990-04-01</td>\n",
       "    </tr>\n",
       "    <tr>\n",
       "      <th>9</th>\n",
       "      <td>151</td>\n",
       "      <td>May - M051990</td>\n",
       "      <td>Andhra Pradesh</td>\n",
       "      <td>Hyderabad</td>\n",
       "      <td>NaN</td>\n",
       "      <td>Industrial Area</td>\n",
       "      <td>4.0</td>\n",
       "      <td>8.9</td>\n",
       "      <td>NaN</td>\n",
       "      <td>NaN</td>\n",
       "      <td>NaN</td>\n",
       "      <td>NaN</td>\n",
       "      <td>1990-05-01</td>\n",
       "    </tr>\n",
       "  </tbody>\n",
       "</table>\n",
       "</div>"
      ],
      "text/plain": [
       "  stn_code       sampling_date           state   location agency  \\\n",
       "0      150  February - M021990  Andhra Pradesh  Hyderabad    NaN   \n",
       "1      151  February - M021990  Andhra Pradesh  Hyderabad    NaN   \n",
       "2      152  February - M021990  Andhra Pradesh  Hyderabad    NaN   \n",
       "3      150     March - M031990  Andhra Pradesh  Hyderabad    NaN   \n",
       "4      151     March - M031990  Andhra Pradesh  Hyderabad    NaN   \n",
       "5      152     March - M031990  Andhra Pradesh  Hyderabad    NaN   \n",
       "6      150     April - M041990  Andhra Pradesh  Hyderabad    NaN   \n",
       "7      151     April - M041990  Andhra Pradesh  Hyderabad    NaN   \n",
       "8      152     April - M041990  Andhra Pradesh  Hyderabad    NaN   \n",
       "9      151       May - M051990  Andhra Pradesh  Hyderabad    NaN   \n",
       "\n",
       "                                 type  so2   no2  rspm  spm  \\\n",
       "0  Residential, Rural and other Areas  4.8  17.4   NaN  NaN   \n",
       "1                     Industrial Area  3.1   7.0   NaN  NaN   \n",
       "2  Residential, Rural and other Areas  6.2  28.5   NaN  NaN   \n",
       "3  Residential, Rural and other Areas  6.3  14.7   NaN  NaN   \n",
       "4                     Industrial Area  4.7   7.5   NaN  NaN   \n",
       "5  Residential, Rural and other Areas  6.4  25.7   NaN  NaN   \n",
       "6  Residential, Rural and other Areas  5.4  17.1   NaN  NaN   \n",
       "7                     Industrial Area  4.7   8.7   NaN  NaN   \n",
       "8  Residential, Rural and other Areas  4.2  23.0   NaN  NaN   \n",
       "9                     Industrial Area  4.0   8.9   NaN  NaN   \n",
       "\n",
       "  location_monitoring_station  pm2_5        date  \n",
       "0                         NaN    NaN  1990-02-01  \n",
       "1                         NaN    NaN  1990-02-01  \n",
       "2                         NaN    NaN  1990-02-01  \n",
       "3                         NaN    NaN  1990-03-01  \n",
       "4                         NaN    NaN  1990-03-01  \n",
       "5                         NaN    NaN  1990-03-01  \n",
       "6                         NaN    NaN  1990-04-01  \n",
       "7                         NaN    NaN  1990-04-01  \n",
       "8                         NaN    NaN  1990-04-01  \n",
       "9                         NaN    NaN  1990-05-01  "
      ]
     },
     "execution_count": 310,
     "metadata": {},
     "output_type": "execute_result"
    }
   ],
   "source": [
    "data.head(10) #print first 10 rows"
   ]
  },
  {
   "cell_type": "code",
   "execution_count": 311,
   "metadata": {},
   "outputs": [
    {
     "data": {
      "text/html": [
       "<div>\n",
       "<style scoped>\n",
       "    .dataframe tbody tr th:only-of-type {\n",
       "        vertical-align: middle;\n",
       "    }\n",
       "\n",
       "    .dataframe tbody tr th {\n",
       "        vertical-align: top;\n",
       "    }\n",
       "\n",
       "    .dataframe thead th {\n",
       "        text-align: right;\n",
       "    }\n",
       "</style>\n",
       "<table border=\"1\" class=\"dataframe\">\n",
       "  <thead>\n",
       "    <tr style=\"text-align: right;\">\n",
       "      <th></th>\n",
       "      <th>stn_code</th>\n",
       "      <th>sampling_date</th>\n",
       "      <th>state</th>\n",
       "      <th>location</th>\n",
       "      <th>agency</th>\n",
       "      <th>type</th>\n",
       "      <th>so2</th>\n",
       "      <th>no2</th>\n",
       "      <th>rspm</th>\n",
       "      <th>spm</th>\n",
       "      <th>location_monitoring_station</th>\n",
       "      <th>pm2_5</th>\n",
       "      <th>date</th>\n",
       "    </tr>\n",
       "  </thead>\n",
       "  <tbody>\n",
       "    <tr>\n",
       "      <th>435732</th>\n",
       "      <td>SAMP</td>\n",
       "      <td>09-12-15</td>\n",
       "      <td>West Bengal</td>\n",
       "      <td>ULUBERIA</td>\n",
       "      <td>West Bengal State Pollution Control Board</td>\n",
       "      <td>RIRUO</td>\n",
       "      <td>22.0</td>\n",
       "      <td>50.0</td>\n",
       "      <td>145.0</td>\n",
       "      <td>NaN</td>\n",
       "      <td>Inside Rampal Industries,ULUBERIA</td>\n",
       "      <td>NaN</td>\n",
       "      <td>2015-12-09</td>\n",
       "    </tr>\n",
       "    <tr>\n",
       "      <th>435733</th>\n",
       "      <td>SAMP</td>\n",
       "      <td>12-12-15</td>\n",
       "      <td>West Bengal</td>\n",
       "      <td>ULUBERIA</td>\n",
       "      <td>West Bengal State Pollution Control Board</td>\n",
       "      <td>RIRUO</td>\n",
       "      <td>34.0</td>\n",
       "      <td>61.0</td>\n",
       "      <td>161.0</td>\n",
       "      <td>NaN</td>\n",
       "      <td>Inside Rampal Industries,ULUBERIA</td>\n",
       "      <td>NaN</td>\n",
       "      <td>2015-12-12</td>\n",
       "    </tr>\n",
       "    <tr>\n",
       "      <th>435734</th>\n",
       "      <td>SAMP</td>\n",
       "      <td>15-12-15</td>\n",
       "      <td>West Bengal</td>\n",
       "      <td>ULUBERIA</td>\n",
       "      <td>West Bengal State Pollution Control Board</td>\n",
       "      <td>RIRUO</td>\n",
       "      <td>20.0</td>\n",
       "      <td>44.0</td>\n",
       "      <td>148.0</td>\n",
       "      <td>NaN</td>\n",
       "      <td>Inside Rampal Industries,ULUBERIA</td>\n",
       "      <td>NaN</td>\n",
       "      <td>2015-12-15</td>\n",
       "    </tr>\n",
       "    <tr>\n",
       "      <th>435735</th>\n",
       "      <td>SAMP</td>\n",
       "      <td>18-12-15</td>\n",
       "      <td>West Bengal</td>\n",
       "      <td>ULUBERIA</td>\n",
       "      <td>West Bengal State Pollution Control Board</td>\n",
       "      <td>RIRUO</td>\n",
       "      <td>17.0</td>\n",
       "      <td>44.0</td>\n",
       "      <td>131.0</td>\n",
       "      <td>NaN</td>\n",
       "      <td>Inside Rampal Industries,ULUBERIA</td>\n",
       "      <td>NaN</td>\n",
       "      <td>2015-12-18</td>\n",
       "    </tr>\n",
       "    <tr>\n",
       "      <th>435736</th>\n",
       "      <td>SAMP</td>\n",
       "      <td>21-12-15</td>\n",
       "      <td>West Bengal</td>\n",
       "      <td>ULUBERIA</td>\n",
       "      <td>West Bengal State Pollution Control Board</td>\n",
       "      <td>RIRUO</td>\n",
       "      <td>18.0</td>\n",
       "      <td>45.0</td>\n",
       "      <td>140.0</td>\n",
       "      <td>NaN</td>\n",
       "      <td>Inside Rampal Industries,ULUBERIA</td>\n",
       "      <td>NaN</td>\n",
       "      <td>2015-12-21</td>\n",
       "    </tr>\n",
       "    <tr>\n",
       "      <th>435737</th>\n",
       "      <td>SAMP</td>\n",
       "      <td>24-12-15</td>\n",
       "      <td>West Bengal</td>\n",
       "      <td>ULUBERIA</td>\n",
       "      <td>West Bengal State Pollution Control Board</td>\n",
       "      <td>RIRUO</td>\n",
       "      <td>22.0</td>\n",
       "      <td>50.0</td>\n",
       "      <td>143.0</td>\n",
       "      <td>NaN</td>\n",
       "      <td>Inside Rampal Industries,ULUBERIA</td>\n",
       "      <td>NaN</td>\n",
       "      <td>2015-12-24</td>\n",
       "    </tr>\n",
       "    <tr>\n",
       "      <th>435738</th>\n",
       "      <td>SAMP</td>\n",
       "      <td>29-12-15</td>\n",
       "      <td>West Bengal</td>\n",
       "      <td>ULUBERIA</td>\n",
       "      <td>West Bengal State Pollution Control Board</td>\n",
       "      <td>RIRUO</td>\n",
       "      <td>20.0</td>\n",
       "      <td>46.0</td>\n",
       "      <td>171.0</td>\n",
       "      <td>NaN</td>\n",
       "      <td>Inside Rampal Industries,ULUBERIA</td>\n",
       "      <td>NaN</td>\n",
       "      <td>2015-12-29</td>\n",
       "    </tr>\n",
       "    <tr>\n",
       "      <th>435739</th>\n",
       "      <td>NaN</td>\n",
       "      <td>NaN</td>\n",
       "      <td>andaman-and-nicobar-islands</td>\n",
       "      <td>NaN</td>\n",
       "      <td>NaN</td>\n",
       "      <td>NaN</td>\n",
       "      <td>NaN</td>\n",
       "      <td>NaN</td>\n",
       "      <td>NaN</td>\n",
       "      <td>NaN</td>\n",
       "      <td>NaN</td>\n",
       "      <td>NaN</td>\n",
       "      <td>NaN</td>\n",
       "    </tr>\n",
       "    <tr>\n",
       "      <th>435740</th>\n",
       "      <td>NaN</td>\n",
       "      <td>NaN</td>\n",
       "      <td>Lakshadweep</td>\n",
       "      <td>NaN</td>\n",
       "      <td>NaN</td>\n",
       "      <td>NaN</td>\n",
       "      <td>NaN</td>\n",
       "      <td>NaN</td>\n",
       "      <td>NaN</td>\n",
       "      <td>NaN</td>\n",
       "      <td>NaN</td>\n",
       "      <td>NaN</td>\n",
       "      <td>NaN</td>\n",
       "    </tr>\n",
       "    <tr>\n",
       "      <th>435741</th>\n",
       "      <td>NaN</td>\n",
       "      <td>NaN</td>\n",
       "      <td>Tripura</td>\n",
       "      <td>NaN</td>\n",
       "      <td>NaN</td>\n",
       "      <td>NaN</td>\n",
       "      <td>NaN</td>\n",
       "      <td>NaN</td>\n",
       "      <td>NaN</td>\n",
       "      <td>NaN</td>\n",
       "      <td>NaN</td>\n",
       "      <td>NaN</td>\n",
       "      <td>NaN</td>\n",
       "    </tr>\n",
       "  </tbody>\n",
       "</table>\n",
       "</div>"
      ],
      "text/plain": [
       "       stn_code sampling_date                        state  location  \\\n",
       "435732     SAMP      09-12-15                  West Bengal  ULUBERIA   \n",
       "435733     SAMP      12-12-15                  West Bengal  ULUBERIA   \n",
       "435734     SAMP      15-12-15                  West Bengal  ULUBERIA   \n",
       "435735     SAMP      18-12-15                  West Bengal  ULUBERIA   \n",
       "435736     SAMP      21-12-15                  West Bengal  ULUBERIA   \n",
       "435737     SAMP      24-12-15                  West Bengal  ULUBERIA   \n",
       "435738     SAMP      29-12-15                  West Bengal  ULUBERIA   \n",
       "435739      NaN           NaN  andaman-and-nicobar-islands       NaN   \n",
       "435740      NaN           NaN                  Lakshadweep       NaN   \n",
       "435741      NaN           NaN                      Tripura       NaN   \n",
       "\n",
       "                                           agency   type   so2   no2   rspm  \\\n",
       "435732  West Bengal State Pollution Control Board  RIRUO  22.0  50.0  145.0   \n",
       "435733  West Bengal State Pollution Control Board  RIRUO  34.0  61.0  161.0   \n",
       "435734  West Bengal State Pollution Control Board  RIRUO  20.0  44.0  148.0   \n",
       "435735  West Bengal State Pollution Control Board  RIRUO  17.0  44.0  131.0   \n",
       "435736  West Bengal State Pollution Control Board  RIRUO  18.0  45.0  140.0   \n",
       "435737  West Bengal State Pollution Control Board  RIRUO  22.0  50.0  143.0   \n",
       "435738  West Bengal State Pollution Control Board  RIRUO  20.0  46.0  171.0   \n",
       "435739                                        NaN    NaN   NaN   NaN    NaN   \n",
       "435740                                        NaN    NaN   NaN   NaN    NaN   \n",
       "435741                                        NaN    NaN   NaN   NaN    NaN   \n",
       "\n",
       "        spm        location_monitoring_station  pm2_5        date  \n",
       "435732  NaN  Inside Rampal Industries,ULUBERIA    NaN  2015-12-09  \n",
       "435733  NaN  Inside Rampal Industries,ULUBERIA    NaN  2015-12-12  \n",
       "435734  NaN  Inside Rampal Industries,ULUBERIA    NaN  2015-12-15  \n",
       "435735  NaN  Inside Rampal Industries,ULUBERIA    NaN  2015-12-18  \n",
       "435736  NaN  Inside Rampal Industries,ULUBERIA    NaN  2015-12-21  \n",
       "435737  NaN  Inside Rampal Industries,ULUBERIA    NaN  2015-12-24  \n",
       "435738  NaN  Inside Rampal Industries,ULUBERIA    NaN  2015-12-29  \n",
       "435739  NaN                                NaN    NaN         NaN  \n",
       "435740  NaN                                NaN    NaN         NaN  \n",
       "435741  NaN                                NaN    NaN         NaN  "
      ]
     },
     "execution_count": 311,
     "metadata": {},
     "output_type": "execute_result"
    }
   ],
   "source": [
    "data.tail(10) #printing last 10 rows"
   ]
  },
  {
   "cell_type": "code",
   "execution_count": 312,
   "metadata": {},
   "outputs": [
    {
     "data": {
      "text/plain": [
       "Index([u'stn_code', u'sampling_date', u'state', u'location', u'agency',\n",
       "       u'type', u'so2', u'no2', u'rspm', u'spm',\n",
       "       u'location_monitoring_station', u'pm2_5', u'date'],\n",
       "      dtype='object')"
      ]
     },
     "execution_count": 312,
     "metadata": {},
     "output_type": "execute_result"
    }
   ],
   "source": [
    "data.columns #print the columns/features of the data"
   ]
  },
  {
   "cell_type": "code",
   "execution_count": 313,
   "metadata": {},
   "outputs": [
    {
     "data": {
      "text/html": [
       "<div>\n",
       "<style scoped>\n",
       "    .dataframe tbody tr th:only-of-type {\n",
       "        vertical-align: middle;\n",
       "    }\n",
       "\n",
       "    .dataframe tbody tr th {\n",
       "        vertical-align: top;\n",
       "    }\n",
       "\n",
       "    .dataframe thead th {\n",
       "        text-align: right;\n",
       "    }\n",
       "</style>\n",
       "<table border=\"1\" class=\"dataframe\">\n",
       "  <thead>\n",
       "    <tr style=\"text-align: right;\">\n",
       "      <th></th>\n",
       "      <th>so2</th>\n",
       "      <th>no2</th>\n",
       "      <th>rspm</th>\n",
       "      <th>spm</th>\n",
       "      <th>pm2_5</th>\n",
       "    </tr>\n",
       "  </thead>\n",
       "  <tbody>\n",
       "    <tr>\n",
       "      <th>count</th>\n",
       "      <td>401096.000000</td>\n",
       "      <td>419509.000000</td>\n",
       "      <td>395520.000000</td>\n",
       "      <td>198355.000000</td>\n",
       "      <td>9314.000000</td>\n",
       "    </tr>\n",
       "    <tr>\n",
       "      <th>mean</th>\n",
       "      <td>10.829414</td>\n",
       "      <td>25.809623</td>\n",
       "      <td>108.832784</td>\n",
       "      <td>220.783480</td>\n",
       "      <td>40.791467</td>\n",
       "    </tr>\n",
       "    <tr>\n",
       "      <th>std</th>\n",
       "      <td>11.177187</td>\n",
       "      <td>18.503086</td>\n",
       "      <td>74.872430</td>\n",
       "      <td>151.395457</td>\n",
       "      <td>30.832525</td>\n",
       "    </tr>\n",
       "    <tr>\n",
       "      <th>min</th>\n",
       "      <td>0.000000</td>\n",
       "      <td>0.000000</td>\n",
       "      <td>0.000000</td>\n",
       "      <td>0.000000</td>\n",
       "      <td>3.000000</td>\n",
       "    </tr>\n",
       "    <tr>\n",
       "      <th>25%</th>\n",
       "      <td>5.000000</td>\n",
       "      <td>14.000000</td>\n",
       "      <td>56.000000</td>\n",
       "      <td>111.000000</td>\n",
       "      <td>24.000000</td>\n",
       "    </tr>\n",
       "    <tr>\n",
       "      <th>50%</th>\n",
       "      <td>8.000000</td>\n",
       "      <td>22.000000</td>\n",
       "      <td>90.000000</td>\n",
       "      <td>187.000000</td>\n",
       "      <td>32.000000</td>\n",
       "    </tr>\n",
       "    <tr>\n",
       "      <th>75%</th>\n",
       "      <td>13.700000</td>\n",
       "      <td>32.200000</td>\n",
       "      <td>142.000000</td>\n",
       "      <td>296.000000</td>\n",
       "      <td>46.000000</td>\n",
       "    </tr>\n",
       "    <tr>\n",
       "      <th>max</th>\n",
       "      <td>909.000000</td>\n",
       "      <td>876.000000</td>\n",
       "      <td>6307.033333</td>\n",
       "      <td>3380.000000</td>\n",
       "      <td>504.000000</td>\n",
       "    </tr>\n",
       "  </tbody>\n",
       "</table>\n",
       "</div>"
      ],
      "text/plain": [
       "                 so2            no2           rspm            spm        pm2_5\n",
       "count  401096.000000  419509.000000  395520.000000  198355.000000  9314.000000\n",
       "mean       10.829414      25.809623     108.832784     220.783480    40.791467\n",
       "std        11.177187      18.503086      74.872430     151.395457    30.832525\n",
       "min         0.000000       0.000000       0.000000       0.000000     3.000000\n",
       "25%         5.000000      14.000000      56.000000     111.000000    24.000000\n",
       "50%         8.000000      22.000000      90.000000     187.000000    32.000000\n",
       "75%        13.700000      32.200000     142.000000     296.000000    46.000000\n",
       "max       909.000000     876.000000    6307.033333    3380.000000   504.000000"
      ]
     },
     "execution_count": 313,
     "metadata": {},
     "output_type": "execute_result"
    }
   ],
   "source": [
    "data.describe() #basic info of the dataset"
   ]
  },
  {
   "cell_type": "markdown",
   "metadata": {},
   "source": [
    "# DATA SHAPE (DIMENSION)"
   ]
  },
  {
   "cell_type": "code",
   "execution_count": 314,
   "metadata": {},
   "outputs": [
    {
     "data": {
      "text/plain": [
       "(435742, 13)"
      ]
     },
     "execution_count": 314,
     "metadata": {},
     "output_type": "execute_result"
    }
   ],
   "source": [
    "data.shape #dimensions of the data"
   ]
  },
  {
   "cell_type": "markdown",
   "metadata": {},
   "source": [
    "# Visualization for states with highest pollutants\n"
   ]
  },
  {
   "cell_type": "code",
   "execution_count": 315,
   "metadata": {},
   "outputs": [
    {
     "data": {
      "image/png": "[encoded data removed]",
      "text/plain": [
       "<Figure size 432x288 with 1 Axes>"
      ]
     },
     "metadata": {},
     "output_type": "display_data"
    }
   ],
   "source": [
    "data[['so2','state']].groupby([\"state\"]).mean().sort_values(by='so2').head(20).plot.bar(color='b')\n",
    "plt.show() "
   ]
  },
  {
   "cell_type": "code",
   "execution_count": 316,
   "metadata": {},
   "outputs": [
    {
     "data": {
      "image/png": "[encoded data removed]",
      "text/plain": [
       "<Figure size 432x288 with 1 Axes>"
      ]
     },
     "metadata": {},
     "output_type": "display_data"
    }
   ],
   "source": [
    "data[['no2','state']].groupby([\"state\"]).mean().sort_values(by='no2').plot.bar(color='g')\n",
    "plt.show()"
   ]
  },
  {
   "cell_type": "code",
   "execution_count": 317,
   "metadata": {},
   "outputs": [
    {
     "data": {
      "image/png": "[encoded data removed]",
      "text/plain": [
       "<Figure size 432x288 with 1 Axes>"
      ]
     },
     "metadata": {},
     "output_type": "display_data"
    }
   ],
   "source": [
    "data[['spm','state']].groupby([\"state\"]).mean().sort_values(by='spm').plot.bar(color='b')\n",
    "plt.show()"
   ]
  },
  {
   "cell_type": "code",
   "execution_count": 318,
   "metadata": {},
   "outputs": [
    {
     "data": {
      "image/png": "[encoded data removed]",
      "text/plain": [
       "<Figure size 432x288 with 1 Axes>"
      ]
     },
     "metadata": {},
     "output_type": "display_data"
    }
   ],
   "source": [
    "data[['rspm','state']].groupby([\"state\"]).mean().sort_values(by='rspm').plot.bar(color='r')\n",
    "plt.show()"
   ]
  },
  {
   "cell_type": "markdown",
   "metadata": {},
   "source": [
    "# NULL VALUES COUNT"
   ]
  },
  {
   "cell_type": "code",
   "execution_count": 319,
   "metadata": {},
   "outputs": [
    {
     "data": {
      "text/plain": [
       "stn_code                       144077\n",
       "sampling_date                       3\n",
       "state                               0\n",
       "location                            3\n",
       "agency                         149481\n",
       "type                             5393\n",
       "so2                             34646\n",
       "no2                             16233\n",
       "rspm                            40222\n",
       "spm                            237387\n",
       "location_monitoring_station     27491\n",
       "pm2_5                          426428\n",
       "date                                7\n",
       "dtype: int64"
      ]
     },
     "execution_count": 319,
     "metadata": {},
     "output_type": "execute_result"
    }
   ],
   "source": [
    "data.isna().sum() #print the sum of null values for each columns"
   ]
  },
  {
   "cell_type": "markdown",
   "metadata": {},
   "source": [
    "# DROP UNNECESSARY COLUMN"
   ]
  },
  {
   "cell_type": "code",
   "execution_count": 320,
   "metadata": {
    "collapsed": true
   },
   "outputs": [],
   "source": [
    "data.drop(['stn_code','agency','sampling_date','location_monitoring_station'],axis=1,inplace=True) "
   ]
  },
  {
   "cell_type": "code",
   "execution_count": 321,
   "metadata": {},
   "outputs": [
    {
     "data": {
      "text/html": [
       "<div>\n",
       "<style scoped>\n",
       "    .dataframe tbody tr th:only-of-type {\n",
       "        vertical-align: middle;\n",
       "    }\n",
       "\n",
       "    .dataframe tbody tr th {\n",
       "        vertical-align: top;\n",
       "    }\n",
       "\n",
       "    .dataframe thead th {\n",
       "        text-align: right;\n",
       "    }\n",
       "</style>\n",
       "<table border=\"1\" class=\"dataframe\">\n",
       "  <thead>\n",
       "    <tr style=\"text-align: right;\">\n",
       "      <th></th>\n",
       "      <th>state</th>\n",
       "      <th>location</th>\n",
       "      <th>type</th>\n",
       "      <th>so2</th>\n",
       "      <th>no2</th>\n",
       "      <th>rspm</th>\n",
       "      <th>spm</th>\n",
       "      <th>pm2_5</th>\n",
       "      <th>date</th>\n",
       "    </tr>\n",
       "  </thead>\n",
       "  <tbody>\n",
       "    <tr>\n",
       "      <th>0</th>\n",
       "      <td>Andhra Pradesh</td>\n",
       "      <td>Hyderabad</td>\n",
       "      <td>Residential, Rural and other Areas</td>\n",
       "      <td>4.8</td>\n",
       "      <td>17.4</td>\n",
       "      <td>NaN</td>\n",
       "      <td>NaN</td>\n",
       "      <td>NaN</td>\n",
       "      <td>1990-02-01</td>\n",
       "    </tr>\n",
       "    <tr>\n",
       "      <th>1</th>\n",
       "      <td>Andhra Pradesh</td>\n",
       "      <td>Hyderabad</td>\n",
       "      <td>Industrial Area</td>\n",
       "      <td>3.1</td>\n",
       "      <td>7.0</td>\n",
       "      <td>NaN</td>\n",
       "      <td>NaN</td>\n",
       "      <td>NaN</td>\n",
       "      <td>1990-02-01</td>\n",
       "    </tr>\n",
       "    <tr>\n",
       "      <th>2</th>\n",
       "      <td>Andhra Pradesh</td>\n",
       "      <td>Hyderabad</td>\n",
       "      <td>Residential, Rural and other Areas</td>\n",
       "      <td>6.2</td>\n",
       "      <td>28.5</td>\n",
       "      <td>NaN</td>\n",
       "      <td>NaN</td>\n",
       "      <td>NaN</td>\n",
       "      <td>1990-02-01</td>\n",
       "    </tr>\n",
       "    <tr>\n",
       "      <th>3</th>\n",
       "      <td>Andhra Pradesh</td>\n",
       "      <td>Hyderabad</td>\n",
       "      <td>Residential, Rural and other Areas</td>\n",
       "      <td>6.3</td>\n",
       "      <td>14.7</td>\n",
       "      <td>NaN</td>\n",
       "      <td>NaN</td>\n",
       "      <td>NaN</td>\n",
       "      <td>1990-03-01</td>\n",
       "    </tr>\n",
       "    <tr>\n",
       "      <th>4</th>\n",
       "      <td>Andhra Pradesh</td>\n",
       "      <td>Hyderabad</td>\n",
       "      <td>Industrial Area</td>\n",
       "      <td>4.7</td>\n",
       "      <td>7.5</td>\n",
       "      <td>NaN</td>\n",
       "      <td>NaN</td>\n",
       "      <td>NaN</td>\n",
       "      <td>1990-03-01</td>\n",
       "    </tr>\n",
       "    <tr>\n",
       "      <th>5</th>\n",
       "      <td>Andhra Pradesh</td>\n",
       "      <td>Hyderabad</td>\n",
       "      <td>Residential, Rural and other Areas</td>\n",
       "      <td>6.4</td>\n",
       "      <td>25.7</td>\n",
       "      <td>NaN</td>\n",
       "      <td>NaN</td>\n",
       "      <td>NaN</td>\n",
       "      <td>1990-03-01</td>\n",
       "    </tr>\n",
       "    <tr>\n",
       "      <th>6</th>\n",
       "      <td>Andhra Pradesh</td>\n",
       "      <td>Hyderabad</td>\n",
       "      <td>Residential, Rural and other Areas</td>\n",
       "      <td>5.4</td>\n",
       "      <td>17.1</td>\n",
       "      <td>NaN</td>\n",
       "      <td>NaN</td>\n",
       "      <td>NaN</td>\n",
       "      <td>1990-04-01</td>\n",
       "    </tr>\n",
       "    <tr>\n",
       "      <th>7</th>\n",
       "      <td>Andhra Pradesh</td>\n",
       "      <td>Hyderabad</td>\n",
       "      <td>Industrial Area</td>\n",
       "      <td>4.7</td>\n",
       "      <td>8.7</td>\n",
       "      <td>NaN</td>\n",
       "      <td>NaN</td>\n",
       "      <td>NaN</td>\n",
       "      <td>1990-04-01</td>\n",
       "    </tr>\n",
       "    <tr>\n",
       "      <th>8</th>\n",
       "      <td>Andhra Pradesh</td>\n",
       "      <td>Hyderabad</td>\n",
       "      <td>Residential, Rural and other Areas</td>\n",
       "      <td>4.2</td>\n",
       "      <td>23.0</td>\n",
       "      <td>NaN</td>\n",
       "      <td>NaN</td>\n",
       "      <td>NaN</td>\n",
       "      <td>1990-04-01</td>\n",
       "    </tr>\n",
       "    <tr>\n",
       "      <th>9</th>\n",
       "      <td>Andhra Pradesh</td>\n",
       "      <td>Hyderabad</td>\n",
       "      <td>Industrial Area</td>\n",
       "      <td>4.0</td>\n",
       "      <td>8.9</td>\n",
       "      <td>NaN</td>\n",
       "      <td>NaN</td>\n",
       "      <td>NaN</td>\n",
       "      <td>1990-05-01</td>\n",
       "    </tr>\n",
       "  </tbody>\n",
       "</table>\n",
       "</div>"
      ],
      "text/plain": [
       "            state   location                                type  so2   no2  \\\n",
       "0  Andhra Pradesh  Hyderabad  Residential, Rural and other Areas  4.8  17.4   \n",
       "1  Andhra Pradesh  Hyderabad                     Industrial Area  3.1   7.0   \n",
       "2  Andhra Pradesh  Hyderabad  Residential, Rural and other Areas  6.2  28.5   \n",
       "3  Andhra Pradesh  Hyderabad  Residential, Rural and other Areas  6.3  14.7   \n",
       "4  Andhra Pradesh  Hyderabad                     Industrial Area  4.7   7.5   \n",
       "5  Andhra Pradesh  Hyderabad  Residential, Rural and other Areas  6.4  25.7   \n",
       "6  Andhra Pradesh  Hyderabad  Residential, Rural and other Areas  5.4  17.1   \n",
       "7  Andhra Pradesh  Hyderabad                     Industrial Area  4.7   8.7   \n",
       "8  Andhra Pradesh  Hyderabad  Residential, Rural and other Areas  4.2  23.0   \n",
       "9  Andhra Pradesh  Hyderabad                     Industrial Area  4.0   8.9   \n",
       "\n",
       "   rspm  spm  pm2_5        date  \n",
       "0   NaN  NaN    NaN  1990-02-01  \n",
       "1   NaN  NaN    NaN  1990-02-01  \n",
       "2   NaN  NaN    NaN  1990-02-01  \n",
       "3   NaN  NaN    NaN  1990-03-01  \n",
       "4   NaN  NaN    NaN  1990-03-01  \n",
       "5   NaN  NaN    NaN  1990-03-01  \n",
       "6   NaN  NaN    NaN  1990-04-01  \n",
       "7   NaN  NaN    NaN  1990-04-01  \n",
       "8   NaN  NaN    NaN  1990-04-01  \n",
       "9   NaN  NaN    NaN  1990-05-01  "
      ]
     },
     "execution_count": 321,
     "metadata": {},
     "output_type": "execute_result"
    }
   ],
   "source": [
    "data.head(10)"
   ]
  },
  {
   "cell_type": "markdown",
   "metadata": {},
   "source": [
    "# CALCULATE TOTAL MISSING VALUES AND THEIR PERCENTAGE"
   ]
  },
  {
   "cell_type": "code",
   "execution_count": 322,
   "metadata": {
    "collapsed": true
   },
   "outputs": [],
   "source": [
    "total = data.isnull().sum().sort_values(ascending=False) "
   ]
  },
  {
   "cell_type": "code",
   "execution_count": 323,
   "metadata": {},
   "outputs": [
    {
     "data": {
      "text/plain": [
       "pm2_5    426428\n",
       "spm      237387\n",
       "rspm      40222\n",
       "so2       34646\n",
       "no2       16233\n",
       "dtype: int64"
      ]
     },
     "execution_count": 323,
     "metadata": {},
     "output_type": "execute_result"
    }
   ],
   "source": [
    "total.head()"
   ]
  },
  {
   "cell_type": "markdown",
   "metadata": {},
   "source": [
    "Calculate the percent of null values for each columns (sum of null values / total non-null value) *100"
   ]
  },
  {
   "cell_type": "code",
   "execution_count": 324,
   "metadata": {
    "collapsed": true
   },
   "outputs": [],
   "source": [
    "percent = (data.isnull().sum()/data.isnull().count()*100).sort_values(ascending=False)  #count(returns Non-NAN value)"
   ]
  },
  {
   "cell_type": "code",
   "execution_count": 325,
   "metadata": {
    "collapsed": true
   },
   "outputs": [],
   "source": [
    "missing_data = pd.concat([total, percent], axis=1, keys=['Total', 'Percent'])"
   ]
  },
  {
   "cell_type": "code",
   "execution_count": 326,
   "metadata": {},
   "outputs": [
    {
     "data": {
      "text/html": [
       "<div>\n",
       "<style scoped>\n",
       "    .dataframe tbody tr th:only-of-type {\n",
       "        vertical-align: middle;\n",
       "    }\n",
       "\n",
       "    .dataframe tbody tr th {\n",
       "        vertical-align: top;\n",
       "    }\n",
       "\n",
       "    .dataframe thead th {\n",
       "        text-align: right;\n",
       "    }\n",
       "</style>\n",
       "<table border=\"1\" class=\"dataframe\">\n",
       "  <thead>\n",
       "    <tr style=\"text-align: right;\">\n",
       "      <th></th>\n",
       "      <th>Total</th>\n",
       "      <th>Percent</th>\n",
       "    </tr>\n",
       "  </thead>\n",
       "  <tbody>\n",
       "    <tr>\n",
       "      <th>pm2_5</th>\n",
       "      <td>426428</td>\n",
       "      <td>97.862497</td>\n",
       "    </tr>\n",
       "    <tr>\n",
       "      <th>spm</th>\n",
       "      <td>237387</td>\n",
       "      <td>54.478797</td>\n",
       "    </tr>\n",
       "    <tr>\n",
       "      <th>rspm</th>\n",
       "      <td>40222</td>\n",
       "      <td>9.230692</td>\n",
       "    </tr>\n",
       "    <tr>\n",
       "      <th>so2</th>\n",
       "      <td>34646</td>\n",
       "      <td>7.951035</td>\n",
       "    </tr>\n",
       "    <tr>\n",
       "      <th>no2</th>\n",
       "      <td>16233</td>\n",
       "      <td>3.725370</td>\n",
       "    </tr>\n",
       "  </tbody>\n",
       "</table>\n",
       "</div>"
      ],
      "text/plain": [
       "        Total    Percent\n",
       "pm2_5  426428  97.862497\n",
       "spm    237387  54.478797\n",
       "rspm    40222   9.230692\n",
       "so2     34646   7.951035\n",
       "no2     16233   3.725370"
      ]
     },
     "execution_count": 326,
     "metadata": {},
     "output_type": "execute_result"
    }
   ],
   "source": [
    "missing_data.head()"
   ]
  },
  {
   "cell_type": "markdown",
   "metadata": {},
   "source": [
    "# PERCENT OF MISSING VALUE (BAR PLOT)"
   ]
  },
  {
   "cell_type": "code",
   "execution_count": 327,
   "metadata": {},
   "outputs": [
    {
     "data": {
      "text/plain": [
       "Text(0.5,1,'Percent missing data by feature')"
      ]
     },
     "execution_count": 327,
     "metadata": {},
     "output_type": "execute_result"
    },
    {
     "data": {
      "image/png": "[encoded data removed]",
      "text/plain": [
       "<Figure size 432x288 with 1 Axes>"
      ]
     },
     "metadata": {},
     "output_type": "display_data"
    }
   ],
   "source": [
    "sns.barplot(x=missing_data.index, y=missing_data['Percent'])\n",
    "plt.xlabel('Features', fontsize=20)\n",
    "plt.ylabel('Percent of missing values', fontsize=20)\n",
    "plt.title('Percent missing data by feature', fontsize=20)"
   ]
  },
  {
   "cell_type": "markdown",
   "metadata": {},
   "source": []
  },
  {
   "cell_type": "markdown",
   "metadata": {},
   "source": [
    "# MEAN DISTRIBUTION BY STATE"
   ]
  },
  {
   "cell_type": "code",
   "execution_count": 328,
   "metadata": {},
   "outputs": [
    {
     "data": {
      "text/html": [
       "<div>\n",
       "<style scoped>\n",
       "    .dataframe tbody tr th:only-of-type {\n",
       "        vertical-align: middle;\n",
       "    }\n",
       "\n",
       "    .dataframe tbody tr th {\n",
       "        vertical-align: top;\n",
       "    }\n",
       "\n",
       "    .dataframe thead th {\n",
       "        text-align: right;\n",
       "    }\n",
       "</style>\n",
       "<table border=\"1\" class=\"dataframe\">\n",
       "  <thead>\n",
       "    <tr style=\"text-align: right;\">\n",
       "      <th></th>\n",
       "      <th>spm</th>\n",
       "      <th>pm2_5</th>\n",
       "      <th>rspm</th>\n",
       "      <th>so2</th>\n",
       "      <th>no2</th>\n",
       "    </tr>\n",
       "    <tr>\n",
       "      <th>state</th>\n",
       "      <th></th>\n",
       "      <th></th>\n",
       "      <th></th>\n",
       "      <th></th>\n",
       "      <th></th>\n",
       "    </tr>\n",
       "  </thead>\n",
       "  <tbody>\n",
       "    <tr>\n",
       "      <th>Andhra Pradesh</th>\n",
       "      <td>200.260378</td>\n",
       "      <td>NaN</td>\n",
       "      <td>78.182824</td>\n",
       "      <td>7.284845</td>\n",
       "      <td>21.704451</td>\n",
       "    </tr>\n",
       "    <tr>\n",
       "      <th>Arunachal Pradesh</th>\n",
       "      <td>NaN</td>\n",
       "      <td>NaN</td>\n",
       "      <td>76.629213</td>\n",
       "      <td>3.179104</td>\n",
       "      <td>5.469697</td>\n",
       "    </tr>\n",
       "    <tr>\n",
       "      <th>Assam</th>\n",
       "      <td>153.355386</td>\n",
       "      <td>NaN</td>\n",
       "      <td>93.724912</td>\n",
       "      <td>6.723263</td>\n",
       "      <td>14.793691</td>\n",
       "    </tr>\n",
       "    <tr>\n",
       "      <th>Bihar</th>\n",
       "      <td>276.917416</td>\n",
       "      <td>NaN</td>\n",
       "      <td>123.705176</td>\n",
       "      <td>19.381476</td>\n",
       "      <td>36.575525</td>\n",
       "    </tr>\n",
       "    <tr>\n",
       "      <th>Chandigarh</th>\n",
       "      <td>206.056150</td>\n",
       "      <td>NaN</td>\n",
       "      <td>96.587079</td>\n",
       "      <td>2.676986</td>\n",
       "      <td>18.619404</td>\n",
       "    </tr>\n",
       "    <tr>\n",
       "      <th>Chhattisgarh</th>\n",
       "      <td>231.290969</td>\n",
       "      <td>NaN</td>\n",
       "      <td>126.472399</td>\n",
       "      <td>12.846609</td>\n",
       "      <td>24.815961</td>\n",
       "    </tr>\n",
       "    <tr>\n",
       "      <th>Dadra &amp; Nagar Haveli</th>\n",
       "      <td>170.545024</td>\n",
       "      <td>30.511628</td>\n",
       "      <td>76.536530</td>\n",
       "      <td>8.939587</td>\n",
       "      <td>18.293959</td>\n",
       "    </tr>\n",
       "    <tr>\n",
       "      <th>Daman &amp; Diu</th>\n",
       "      <td>145.681416</td>\n",
       "      <td>27.886364</td>\n",
       "      <td>73.749431</td>\n",
       "      <td>8.192958</td>\n",
       "      <td>16.168926</td>\n",
       "    </tr>\n",
       "    <tr>\n",
       "      <th>Delhi</th>\n",
       "      <td>399.402088</td>\n",
       "      <td>95.113208</td>\n",
       "      <td>196.639771</td>\n",
       "      <td>8.737273</td>\n",
       "      <td>53.489147</td>\n",
       "    </tr>\n",
       "    <tr>\n",
       "      <th>Goa</th>\n",
       "      <td>67.254193</td>\n",
       "      <td>18.855612</td>\n",
       "      <td>61.212766</td>\n",
       "      <td>6.827913</td>\n",
       "      <td>12.506337</td>\n",
       "    </tr>\n",
       "    <tr>\n",
       "      <th>Gujarat</th>\n",
       "      <td>191.567930</td>\n",
       "      <td>30.729696</td>\n",
       "      <td>98.244510</td>\n",
       "      <td>16.656343</td>\n",
       "      <td>24.065631</td>\n",
       "    </tr>\n",
       "    <tr>\n",
       "      <th>Haryana</th>\n",
       "      <td>268.264804</td>\n",
       "      <td>NaN</td>\n",
       "      <td>149.860537</td>\n",
       "      <td>14.064957</td>\n",
       "      <td>23.428311</td>\n",
       "    </tr>\n",
       "    <tr>\n",
       "      <th>Himachal Pradesh</th>\n",
       "      <td>208.575630</td>\n",
       "      <td>NaN</td>\n",
       "      <td>91.870202</td>\n",
       "      <td>2.667013</td>\n",
       "      <td>13.658688</td>\n",
       "    </tr>\n",
       "    <tr>\n",
       "      <th>Jammu &amp; Kashmir</th>\n",
       "      <td>196.221053</td>\n",
       "      <td>NaN</td>\n",
       "      <td>117.449483</td>\n",
       "      <td>7.180521</td>\n",
       "      <td>12.213181</td>\n",
       "    </tr>\n",
       "    <tr>\n",
       "      <th>Jharkhand</th>\n",
       "      <td>277.940746</td>\n",
       "      <td>NaN</td>\n",
       "      <td>168.517763</td>\n",
       "      <td>23.485794</td>\n",
       "      <td>43.366341</td>\n",
       "    </tr>\n",
       "    <tr>\n",
       "      <th>Karnataka</th>\n",
       "      <td>168.001743</td>\n",
       "      <td>NaN</td>\n",
       "      <td>79.371801</td>\n",
       "      <td>10.223099</td>\n",
       "      <td>22.702837</td>\n",
       "    </tr>\n",
       "    <tr>\n",
       "      <th>Kerala</th>\n",
       "      <td>84.419791</td>\n",
       "      <td>NaN</td>\n",
       "      <td>50.636064</td>\n",
       "      <td>5.322350</td>\n",
       "      <td>14.421889</td>\n",
       "    </tr>\n",
       "    <tr>\n",
       "      <th>Lakshadweep</th>\n",
       "      <td>NaN</td>\n",
       "      <td>NaN</td>\n",
       "      <td>NaN</td>\n",
       "      <td>NaN</td>\n",
       "      <td>NaN</td>\n",
       "    </tr>\n",
       "    <tr>\n",
       "      <th>Madhya Pradesh</th>\n",
       "      <td>210.067545</td>\n",
       "      <td>65.064565</td>\n",
       "      <td>114.717967</td>\n",
       "      <td>11.587410</td>\n",
       "      <td>18.639596</td>\n",
       "    </tr>\n",
       "    <tr>\n",
       "      <th>Maharashtra</th>\n",
       "      <td>205.255823</td>\n",
       "      <td>NaN</td>\n",
       "      <td>101.479608</td>\n",
       "      <td>17.366863</td>\n",
       "      <td>32.115370</td>\n",
       "    </tr>\n",
       "    <tr>\n",
       "      <th>Manipur</th>\n",
       "      <td>158.657895</td>\n",
       "      <td>NaN</td>\n",
       "      <td>69.815789</td>\n",
       "      <td>3.900000</td>\n",
       "      <td>20.173684</td>\n",
       "    </tr>\n",
       "    <tr>\n",
       "      <th>Meghalaya</th>\n",
       "      <td>78.002445</td>\n",
       "      <td>NaN</td>\n",
       "      <td>68.988442</td>\n",
       "      <td>8.955908</td>\n",
       "      <td>10.659706</td>\n",
       "    </tr>\n",
       "    <tr>\n",
       "      <th>Mizoram</th>\n",
       "      <td>87.833333</td>\n",
       "      <td>NaN</td>\n",
       "      <td>42.716466</td>\n",
       "      <td>2.085009</td>\n",
       "      <td>6.682171</td>\n",
       "    </tr>\n",
       "    <tr>\n",
       "      <th>Nagaland</th>\n",
       "      <td>133.311449</td>\n",
       "      <td>NaN</td>\n",
       "      <td>83.357027</td>\n",
       "      <td>2.059736</td>\n",
       "      <td>8.947265</td>\n",
       "    </tr>\n",
       "    <tr>\n",
       "      <th>Odisha</th>\n",
       "      <td>167.609844</td>\n",
       "      <td>42.204089</td>\n",
       "      <td>83.619824</td>\n",
       "      <td>5.275874</td>\n",
       "      <td>16.899568</td>\n",
       "    </tr>\n",
       "    <tr>\n",
       "      <th>Puducherry</th>\n",
       "      <td>95.598188</td>\n",
       "      <td>NaN</td>\n",
       "      <td>43.418217</td>\n",
       "      <td>11.970639</td>\n",
       "      <td>15.279496</td>\n",
       "    </tr>\n",
       "    <tr>\n",
       "      <th>Punjab</th>\n",
       "      <td>244.918926</td>\n",
       "      <td>NaN</td>\n",
       "      <td>173.493711</td>\n",
       "      <td>10.628598</td>\n",
       "      <td>28.085846</td>\n",
       "    </tr>\n",
       "    <tr>\n",
       "      <th>Rajasthan</th>\n",
       "      <td>300.735397</td>\n",
       "      <td>NaN</td>\n",
       "      <td>142.016832</td>\n",
       "      <td>7.665725</td>\n",
       "      <td>30.441008</td>\n",
       "    </tr>\n",
       "    <tr>\n",
       "      <th>Sikkim</th>\n",
       "      <td>75.000000</td>\n",
       "      <td>NaN</td>\n",
       "      <td>32.000000</td>\n",
       "      <td>19.800000</td>\n",
       "      <td>26.800000</td>\n",
       "    </tr>\n",
       "    <tr>\n",
       "      <th>Tamil Nadu</th>\n",
       "      <td>126.729064</td>\n",
       "      <td>29.550441</td>\n",
       "      <td>66.585638</td>\n",
       "      <td>11.315134</td>\n",
       "      <td>21.601202</td>\n",
       "    </tr>\n",
       "    <tr>\n",
       "      <th>Telangana</th>\n",
       "      <td>NaN</td>\n",
       "      <td>43.968927</td>\n",
       "      <td>85.043008</td>\n",
       "      <td>5.418609</td>\n",
       "      <td>23.864005</td>\n",
       "    </tr>\n",
       "    <tr>\n",
       "      <th>Tripura</th>\n",
       "      <td>NaN</td>\n",
       "      <td>NaN</td>\n",
       "      <td>NaN</td>\n",
       "      <td>NaN</td>\n",
       "      <td>NaN</td>\n",
       "    </tr>\n",
       "    <tr>\n",
       "      <th>Uttar Pradesh</th>\n",
       "      <td>372.663688</td>\n",
       "      <td>NaN</td>\n",
       "      <td>176.952308</td>\n",
       "      <td>12.528500</td>\n",
       "      <td>27.610095</td>\n",
       "    </tr>\n",
       "    <tr>\n",
       "      <th>Uttarakhand</th>\n",
       "      <td>306.758923</td>\n",
       "      <td>NaN</td>\n",
       "      <td>148.978906</td>\n",
       "      <td>24.372957</td>\n",
       "      <td>26.938090</td>\n",
       "    </tr>\n",
       "    <tr>\n",
       "      <th>Uttaranchal</th>\n",
       "      <td>283.335714</td>\n",
       "      <td>NaN</td>\n",
       "      <td>121.694340</td>\n",
       "      <td>24.697736</td>\n",
       "      <td>27.163019</td>\n",
       "    </tr>\n",
       "    <tr>\n",
       "      <th>West Bengal</th>\n",
       "      <td>233.506524</td>\n",
       "      <td>64.890625</td>\n",
       "      <td>115.039909</td>\n",
       "      <td>12.608766</td>\n",
       "      <td>59.075731</td>\n",
       "    </tr>\n",
       "    <tr>\n",
       "      <th>andaman-and-nicobar-islands</th>\n",
       "      <td>NaN</td>\n",
       "      <td>NaN</td>\n",
       "      <td>NaN</td>\n",
       "      <td>NaN</td>\n",
       "      <td>NaN</td>\n",
       "    </tr>\n",
       "  </tbody>\n",
       "</table>\n",
       "</div>"
      ],
      "text/plain": [
       "                                    spm      pm2_5        rspm        so2  \\\n",
       "state                                                                       \n",
       "Andhra Pradesh               200.260378        NaN   78.182824   7.284845   \n",
       "Arunachal Pradesh                   NaN        NaN   76.629213   3.179104   \n",
       "Assam                        153.355386        NaN   93.724912   6.723263   \n",
       "Bihar                        276.917416        NaN  123.705176  19.381476   \n",
       "Chandigarh                   206.056150        NaN   96.587079   2.676986   \n",
       "Chhattisgarh                 231.290969        NaN  126.472399  12.846609   \n",
       "Dadra & Nagar Haveli         170.545024  30.511628   76.536530   8.939587   \n",
       "Daman & Diu                  145.681416  27.886364   73.749431   8.192958   \n",
       "Delhi                        399.402088  95.113208  196.639771   8.737273   \n",
       "Goa                           67.254193  18.855612   61.212766   6.827913   \n",
       "Gujarat                      191.567930  30.729696   98.244510  16.656343   \n",
       "Haryana                      268.264804        NaN  149.860537  14.064957   \n",
       "Himachal Pradesh             208.575630        NaN   91.870202   2.667013   \n",
       "Jammu & Kashmir              196.221053        NaN  117.449483   7.180521   \n",
       "Jharkhand                    277.940746        NaN  168.517763  23.485794   \n",
       "Karnataka                    168.001743        NaN   79.371801  10.223099   \n",
       "Kerala                        84.419791        NaN   50.636064   5.322350   \n",
       "Lakshadweep                         NaN        NaN         NaN        NaN   \n",
       "Madhya Pradesh               210.067545  65.064565  114.717967  11.587410   \n",
       "Maharashtra                  205.255823        NaN  101.479608  17.366863   \n",
       "Manipur                      158.657895        NaN   69.815789   3.900000   \n",
       "Meghalaya                     78.002445        NaN   68.988442   8.955908   \n",
       "Mizoram                       87.833333        NaN   42.716466   2.085009   \n",
       "Nagaland                     133.311449        NaN   83.357027   2.059736   \n",
       "Odisha                       167.609844  42.204089   83.619824   5.275874   \n",
       "Puducherry                    95.598188        NaN   43.418217  11.970639   \n",
       "Punjab                       244.918926        NaN  173.493711  10.628598   \n",
       "Rajasthan                    300.735397        NaN  142.016832   7.665725   \n",
       "Sikkim                        75.000000        NaN   32.000000  19.800000   \n",
       "Tamil Nadu                   126.729064  29.550441   66.585638  11.315134   \n",
       "Telangana                           NaN  43.968927   85.043008   5.418609   \n",
       "Tripura                             NaN        NaN         NaN        NaN   \n",
       "Uttar Pradesh                372.663688        NaN  176.952308  12.528500   \n",
       "Uttarakhand                  306.758923        NaN  148.978906  24.372957   \n",
       "Uttaranchal                  283.335714        NaN  121.694340  24.697736   \n",
       "West Bengal                  233.506524  64.890625  115.039909  12.608766   \n",
       "andaman-and-nicobar-islands         NaN        NaN         NaN        NaN   \n",
       "\n",
       "                                   no2  \n",
       "state                                   \n",
       "Andhra Pradesh               21.704451  \n",
       "Arunachal Pradesh             5.469697  \n",
       "Assam                        14.793691  \n",
       "Bihar                        36.575525  \n",
       "Chandigarh                   18.619404  \n",
       "Chhattisgarh                 24.815961  \n",
       "Dadra & Nagar Haveli         18.293959  \n",
       "Daman & Diu                  16.168926  \n",
       "Delhi                        53.489147  \n",
       "Goa                          12.506337  \n",
       "Gujarat                      24.065631  \n",
       "Haryana                      23.428311  \n",
       "Himachal Pradesh             13.658688  \n",
       "Jammu & Kashmir              12.213181  \n",
       "Jharkhand                    43.366341  \n",
       "Karnataka                    22.702837  \n",
       "Kerala                       14.421889  \n",
       "Lakshadweep                        NaN  \n",
       "Madhya Pradesh               18.639596  \n",
       "Maharashtra                  32.115370  \n",
       "Manipur                      20.173684  \n",
       "Meghalaya                    10.659706  \n",
       "Mizoram                       6.682171  \n",
       "Nagaland                      8.947265  \n",
       "Odisha                       16.899568  \n",
       "Puducherry                   15.279496  \n",
       "Punjab                       28.085846  \n",
       "Rajasthan                    30.441008  \n",
       "Sikkim                       26.800000  \n",
       "Tamil Nadu                   21.601202  \n",
       "Telangana                    23.864005  \n",
       "Tripura                            NaN  \n",
       "Uttar Pradesh                27.610095  \n",
       "Uttarakhand                  26.938090  \n",
       "Uttaranchal                  27.163019  \n",
       "West Bengal                  59.075731  \n",
       "andaman-and-nicobar-islands        NaN  "
      ]
     },
     "execution_count": 328,
     "metadata": {},
     "output_type": "execute_result"
    }
   ],
   "source": [
    "data.groupby('state')[['spm','pm2_5','rspm','so2','no2']].mean()"
   ]
  },
  {
   "cell_type": "markdown",
   "metadata": {},
   "source": [
    "# CHECKING DATA DISTRIBUTION"
   ]
  },
  {
   "cell_type": "code",
   "execution_count": 329,
   "metadata": {},
   "outputs": [
    {
     "data": {
      "text/plain": [
       "(array([1.74232e+05, 2.30180e+04, 1.02600e+03, 6.10000e+01, 1.10000e+01,\n",
       "        4.00000e+00, 2.00000e+00, 0.00000e+00, 1.00000e+00, 0.00000e+00]),\n",
       " array([   0.,  400.,  800., 1200., 1600., 2000., 2400., 2800., 3200.,\n",
       "        3600., 4000.]),\n",
       " <a list of 10 Patch objects>)"
      ]
     },
     "execution_count": 329,
     "metadata": {},
     "output_type": "execute_result"
    },
    {
     "data": {
      "image/png": "[encoded data removed]",
      "text/plain": [
       "<Figure size 432x288 with 1 Axes>"
      ]
     },
     "metadata": {},
     "output_type": "display_data"
    }
   ],
   "source": [
    "plt.hist(data.spm,range=(0.0,4000)) #spm"
   ]
  },
  {
   "cell_type": "code",
   "execution_count": 330,
   "metadata": {},
   "outputs": [
    {
     "data": {
      "text/plain": [
       "(array([4.00522e+05, 4.81000e+02, 6.40000e+01, 2.10000e+01, 6.00000e+00,\n",
       "        1.00000e+00, 0.00000e+00, 0.00000e+00, 0.00000e+00, 1.00000e+00]),\n",
       " array([   0.,  100.,  200.,  300.,  400.,  500.,  600.,  700.,  800.,\n",
       "         900., 1000.]),\n",
       " <a list of 10 Patch objects>)"
      ]
     },
     "execution_count": 330,
     "metadata": {},
     "output_type": "execute_result"
    },
    {
     "data": {
      "image/png": "[encoded data removed]",
      "text/plain": [
       "<Figure size 432x288 with 1 Axes>"
      ]
     },
     "metadata": {},
     "output_type": "display_data"
    }
   ],
   "source": [
    "plt.hist(data.so2,range=(0,1000)) #so2"
   ]
  },
  {
   "cell_type": "code",
   "execution_count": 331,
   "metadata": {},
   "outputs": [
    {
     "data": {
      "text/plain": [
       "(array([4.16228e+05, 3.10400e+03, 1.32000e+02, 3.20000e+01, 7.00000e+00,\n",
       "        3.00000e+00, 2.00000e+00, 0.00000e+00, 1.00000e+00, 0.00000e+00]),\n",
       " array([   0.,  100.,  200.,  300.,  400.,  500.,  600.,  700.,  800.,\n",
       "         900., 1000.]),\n",
       " <a list of 10 Patch objects>)"
      ]
     },
     "execution_count": 331,
     "metadata": {},
     "output_type": "execute_result"
    },
    {
     "data": {
      "image/png": "[encoded data removed]",
      "text/plain": [
       "<Figure size 432x288 with 1 Axes>"
      ]
     },
     "metadata": {},
     "output_type": "display_data"
    }
   ],
   "source": [
    "plt.hist(data.no2,range=(0,1000)) #no2"
   ]
  },
  {
   "cell_type": "code",
   "execution_count": 332,
   "metadata": {},
   "outputs": [
    {
     "data": {
      "text/plain": [
       "(array([3.95425e+05, 9.40000e+01, 0.00000e+00, 0.00000e+00, 0.00000e+00,\n",
       "        0.00000e+00, 0.00000e+00, 0.00000e+00, 0.00000e+00, 1.00000e+00]),\n",
       " array([   0.,  700., 1400., 2100., 2800., 3500., 4200., 4900., 5600.,\n",
       "        6300., 7000.]),\n",
       " <a list of 10 Patch objects>)"
      ]
     },
     "execution_count": 332,
     "metadata": {},
     "output_type": "execute_result"
    },
    {
     "data": {
      "image/png": "[encoded data removed]",
      "text/plain": [
       "<Figure size 432x288 with 1 Axes>"
      ]
     },
     "metadata": {},
     "output_type": "display_data"
    }
   ],
   "source": [
    "plt.hist(data.rspm,range=(0,7000)) #rspm"
   ]
  },
  {
   "cell_type": "code",
   "execution_count": 333,
   "metadata": {},
   "outputs": [
    {
     "data": {
      "text/plain": [
       "(array([8.92e+03, 3.47e+02, 3.90e+01, 7.00e+00, 0.00e+00, 1.00e+00,\n",
       "        0.00e+00, 0.00e+00, 0.00e+00, 0.00e+00]),\n",
       " array([   0.,  100.,  200.,  300.,  400.,  500.,  600.,  700.,  800.,\n",
       "         900., 1000.]),\n",
       " <a list of 10 Patch objects>)"
      ]
     },
     "execution_count": 333,
     "metadata": {},
     "output_type": "execute_result"
    },
    {
     "data": {
      "image/png": "[encoded data removed]",
      "text/plain": [
       "<Figure size 432x288 with 1 Axes>"
      ]
     },
     "metadata": {},
     "output_type": "display_data"
    }
   ],
   "source": [
    "plt.hist(data.pm2_5,range=(0,1000)) #pm2_5"
   ]
  },
  {
   "cell_type": "markdown",
   "metadata": {},
   "source": [
    "CONCLUSION: NO POTENTIAL OUTLIERS"
   ]
  },
  {
   "cell_type": "markdown",
   "metadata": {},
   "source": [
    "# FILL MISSING VALUES BY MEAN (GROUP BY STATE)"
   ]
  },
  {
   "cell_type": "code",
   "execution_count": 334,
   "metadata": {
    "collapsed": true
   },
   "outputs": [],
   "source": [
    "grp_state = data.groupby('state')"
   ]
  },
  {
   "cell_type": "code",
   "execution_count": 335,
   "metadata": {
    "collapsed": true
   },
   "outputs": [],
   "source": [
    "def impute_mean_by_state(series):\n",
    "    return series.fillna(series.mean()) "
   ]
  },
  {
   "cell_type": "code",
   "execution_count": 336,
   "metadata": {
    "collapsed": true
   },
   "outputs": [],
   "source": [
    "data['rspm']=grp_state['rspm'].transform(impute_mean_by_state)  #fill value with mean value group by state\n",
    "data['so2']=grp_state['so2'].transform(impute_mean_by_state)\n",
    "data['no2']=grp_state['no2'].transform(impute_mean_by_state)\n",
    "data['spm']=grp_state['spm'].transform(impute_mean_by_state)\n",
    "data['pm2_5']=grp_state['pm2_5'].transform(impute_mean_by_state)"
   ]
  },
  {
   "cell_type": "code",
   "execution_count": 337,
   "metadata": {},
   "outputs": [
    {
     "data": {
      "text/html": [
       "<div>\n",
       "<style scoped>\n",
       "    .dataframe tbody tr th:only-of-type {\n",
       "        vertical-align: middle;\n",
       "    }\n",
       "\n",
       "    .dataframe tbody tr th {\n",
       "        vertical-align: top;\n",
       "    }\n",
       "\n",
       "    .dataframe thead th {\n",
       "        text-align: right;\n",
       "    }\n",
       "</style>\n",
       "<table border=\"1\" class=\"dataframe\">\n",
       "  <thead>\n",
       "    <tr style=\"text-align: right;\">\n",
       "      <th></th>\n",
       "      <th>so2</th>\n",
       "      <th>no2</th>\n",
       "      <th>rspm</th>\n",
       "      <th>spm</th>\n",
       "      <th>pm2_5</th>\n",
       "    </tr>\n",
       "  </thead>\n",
       "  <tbody>\n",
       "    <tr>\n",
       "      <th>count</th>\n",
       "      <td>435739.000000</td>\n",
       "      <td>435739.000000</td>\n",
       "      <td>435739.000000</td>\n",
       "      <td>431671.000000</td>\n",
       "      <td>123689.000000</td>\n",
       "    </tr>\n",
       "    <tr>\n",
       "      <th>mean</th>\n",
       "      <td>10.589141</td>\n",
       "      <td>25.663170</td>\n",
       "      <td>109.680907</td>\n",
       "      <td>215.198748</td>\n",
       "      <td>48.317274</td>\n",
       "    </tr>\n",
       "    <tr>\n",
       "      <th>std</th>\n",
       "      <td>10.863679</td>\n",
       "      <td>18.271145</td>\n",
       "      <td>72.519399</td>\n",
       "      <td>117.470157</td>\n",
       "      <td>21.455206</td>\n",
       "    </tr>\n",
       "    <tr>\n",
       "      <th>min</th>\n",
       "      <td>0.000000</td>\n",
       "      <td>0.000000</td>\n",
       "      <td>0.000000</td>\n",
       "      <td>0.000000</td>\n",
       "      <td>3.000000</td>\n",
       "    </tr>\n",
       "    <tr>\n",
       "      <th>25%</th>\n",
       "      <td>4.800000</td>\n",
       "      <td>14.000000</td>\n",
       "      <td>59.000000</td>\n",
       "      <td>142.000000</td>\n",
       "      <td>30.729696</td>\n",
       "    </tr>\n",
       "    <tr>\n",
       "      <th>50%</th>\n",
       "      <td>8.000000</td>\n",
       "      <td>21.800000</td>\n",
       "      <td>93.000000</td>\n",
       "      <td>205.255823</td>\n",
       "      <td>42.204089</td>\n",
       "    </tr>\n",
       "    <tr>\n",
       "      <th>75%</th>\n",
       "      <td>13.000000</td>\n",
       "      <td>32.000000</td>\n",
       "      <td>142.016832</td>\n",
       "      <td>248.000000</td>\n",
       "      <td>64.890625</td>\n",
       "    </tr>\n",
       "    <tr>\n",
       "      <th>max</th>\n",
       "      <td>909.000000</td>\n",
       "      <td>876.000000</td>\n",
       "      <td>6307.033333</td>\n",
       "      <td>3380.000000</td>\n",
       "      <td>504.000000</td>\n",
       "    </tr>\n",
       "  </tbody>\n",
       "</table>\n",
       "</div>"
      ],
      "text/plain": [
       "                 so2            no2           rspm            spm  \\\n",
       "count  435739.000000  435739.000000  435739.000000  431671.000000   \n",
       "mean       10.589141      25.663170     109.680907     215.198748   \n",
       "std        10.863679      18.271145      72.519399     117.470157   \n",
       "min         0.000000       0.000000       0.000000       0.000000   \n",
       "25%         4.800000      14.000000      59.000000     142.000000   \n",
       "50%         8.000000      21.800000      93.000000     205.255823   \n",
       "75%        13.000000      32.000000     142.016832     248.000000   \n",
       "max       909.000000     876.000000    6307.033333    3380.000000   \n",
       "\n",
       "               pm2_5  \n",
       "count  123689.000000  \n",
       "mean       48.317274  \n",
       "std        21.455206  \n",
       "min         3.000000  \n",
       "25%        30.729696  \n",
       "50%        42.204089  \n",
       "75%        64.890625  \n",
       "max       504.000000  "
      ]
     },
     "execution_count": 337,
     "metadata": {},
     "output_type": "execute_result"
    }
   ],
   "source": [
    "data.describe()"
   ]
  },
  {
   "cell_type": "code",
   "execution_count": 338,
   "metadata": {},
   "outputs": [
    {
     "data": {
      "text/plain": [
       "state            0\n",
       "location         3\n",
       "type          5393\n",
       "so2              3\n",
       "no2              3\n",
       "rspm             3\n",
       "spm           4071\n",
       "pm2_5       312053\n",
       "date             7\n",
       "dtype: int64"
      ]
     },
     "execution_count": 338,
     "metadata": {},
     "output_type": "execute_result"
    }
   ],
   "source": [
    "data.isna().sum() #some null value remains since some state have one value(i.e NaN only) and no mean to replace them"
   ]
  },
  {
   "cell_type": "markdown",
   "metadata": {},
   "source": [
    "# Data Distribution after Replacing Null value with mean"
   ]
  },
  {
   "cell_type": "code",
   "execution_count": 339,
   "metadata": {},
   "outputs": [
    {
     "data": {
      "text/plain": [
       "(array([4.35165e+05, 4.81000e+02, 6.40000e+01, 2.10000e+01, 6.00000e+00,\n",
       "        1.00000e+00, 0.00000e+00, 0.00000e+00, 0.00000e+00, 1.00000e+00]),\n",
       " array([   0.,  100.,  200.,  300.,  400.,  500.,  600.,  700.,  800.,\n",
       "         900., 1000.]),\n",
       " <a list of 10 Patch objects>)"
      ]
     },
     "execution_count": 339,
     "metadata": {},
     "output_type": "execute_result"
    },
    {
     "data": {
      "image/png": "[encoded data removed]",
      "text/plain": [
       "<Figure size 432x288 with 1 Axes>"
      ]
     },
     "metadata": {},
     "output_type": "display_data"
    }
   ],
   "source": [
    "plt.hist(data.so2,range=(0,1000))"
   ]
  },
  {
   "cell_type": "code",
   "execution_count": 340,
   "metadata": {},
   "outputs": [
    {
     "data": {
      "text/plain": [
       "(array([4.35644e+05, 9.40000e+01, 0.00000e+00, 0.00000e+00, 0.00000e+00,\n",
       "        0.00000e+00, 0.00000e+00, 0.00000e+00, 0.00000e+00, 1.00000e+00]),\n",
       " array([   0.,  700., 1400., 2100., 2800., 3500., 4200., 4900., 5600.,\n",
       "        6300., 7000.]),\n",
       " <a list of 10 Patch objects>)"
      ]
     },
     "execution_count": 340,
     "metadata": {},
     "output_type": "execute_result"
    },
    {
     "data": {
      "image/png": "[encoded data removed]",
      "text/plain": [
       "<Figure size 432x288 with 1 Axes>"
      ]
     },
     "metadata": {},
     "output_type": "display_data"
    }
   ],
   "source": [
    "plt.hist(data.rspm,range=(0,7000))"
   ]
  },
  {
   "cell_type": "code",
   "execution_count": 341,
   "metadata": {},
   "outputs": [
    {
     "data": {
      "text/plain": [
       "(array([4.32458e+05, 3.10400e+03, 1.32000e+02, 3.20000e+01, 7.00000e+00,\n",
       "        3.00000e+00, 2.00000e+00, 0.00000e+00, 1.00000e+00, 0.00000e+00]),\n",
       " array([   0.,  100.,  200.,  300.,  400.,  500.,  600.,  700.,  800.,\n",
       "         900., 1000.]),\n",
       " <a list of 10 Patch objects>)"
      ]
     },
     "execution_count": 341,
     "metadata": {},
     "output_type": "execute_result"
    },
    {
     "data": {
      "image/png": "[encoded data removed]",
      "text/plain": [
       "<Figure size 432x288 with 1 Axes>"
      ]
     },
     "metadata": {},
     "output_type": "display_data"
    }
   ],
   "source": [
    "plt.hist(data.no2,range=(0.0,1000))"
   ]
  },
  {
   "cell_type": "code",
   "execution_count": 342,
   "metadata": {},
   "outputs": [
    {
     "data": {
      "text/plain": [
       "(array([4.07548e+05, 2.30180e+04, 1.02600e+03, 6.10000e+01, 1.10000e+01,\n",
       "        4.00000e+00, 2.00000e+00, 0.00000e+00, 1.00000e+00, 0.00000e+00]),\n",
       " array([   0.,  400.,  800., 1200., 1600., 2000., 2400., 2800., 3200.,\n",
       "        3600., 4000.]),\n",
       " <a list of 10 Patch objects>)"
      ]
     },
     "execution_count": 342,
     "metadata": {},
     "output_type": "execute_result"
    },
    {
     "data": {
      "image/png": "[encoded data removed]",
      "text/plain": [
       "<Figure size 432x288 with 1 Axes>"
      ]
     },
     "metadata": {},
     "output_type": "display_data"
    }
   ],
   "source": [
    "plt.hist(data.spm,range=(0.0,4000)) #spm"
   ]
  },
  {
   "cell_type": "code",
   "execution_count": 343,
   "metadata": {},
   "outputs": [
    {
     "data": {
      "text/html": [
       "<div>\n",
       "<style scoped>\n",
       "    .dataframe tbody tr th:only-of-type {\n",
       "        vertical-align: middle;\n",
       "    }\n",
       "\n",
       "    .dataframe tbody tr th {\n",
       "        vertical-align: top;\n",
       "    }\n",
       "\n",
       "    .dataframe thead th {\n",
       "        text-align: right;\n",
       "    }\n",
       "</style>\n",
       "<table border=\"1\" class=\"dataframe\">\n",
       "  <thead>\n",
       "    <tr style=\"text-align: right;\">\n",
       "      <th></th>\n",
       "      <th>state</th>\n",
       "      <th>location</th>\n",
       "      <th>type</th>\n",
       "      <th>so2</th>\n",
       "      <th>no2</th>\n",
       "      <th>rspm</th>\n",
       "      <th>spm</th>\n",
       "      <th>pm2_5</th>\n",
       "      <th>date</th>\n",
       "    </tr>\n",
       "  </thead>\n",
       "  <tbody>\n",
       "    <tr>\n",
       "      <th>435732</th>\n",
       "      <td>West Bengal</td>\n",
       "      <td>ULUBERIA</td>\n",
       "      <td>RIRUO</td>\n",
       "      <td>22.0</td>\n",
       "      <td>50.0</td>\n",
       "      <td>145.0</td>\n",
       "      <td>233.506524</td>\n",
       "      <td>64.890625</td>\n",
       "      <td>2015-12-09</td>\n",
       "    </tr>\n",
       "    <tr>\n",
       "      <th>435733</th>\n",
       "      <td>West Bengal</td>\n",
       "      <td>ULUBERIA</td>\n",
       "      <td>RIRUO</td>\n",
       "      <td>34.0</td>\n",
       "      <td>61.0</td>\n",
       "      <td>161.0</td>\n",
       "      <td>233.506524</td>\n",
       "      <td>64.890625</td>\n",
       "      <td>2015-12-12</td>\n",
       "    </tr>\n",
       "    <tr>\n",
       "      <th>435734</th>\n",
       "      <td>West Bengal</td>\n",
       "      <td>ULUBERIA</td>\n",
       "      <td>RIRUO</td>\n",
       "      <td>20.0</td>\n",
       "      <td>44.0</td>\n",
       "      <td>148.0</td>\n",
       "      <td>233.506524</td>\n",
       "      <td>64.890625</td>\n",
       "      <td>2015-12-15</td>\n",
       "    </tr>\n",
       "    <tr>\n",
       "      <th>435735</th>\n",
       "      <td>West Bengal</td>\n",
       "      <td>ULUBERIA</td>\n",
       "      <td>RIRUO</td>\n",
       "      <td>17.0</td>\n",
       "      <td>44.0</td>\n",
       "      <td>131.0</td>\n",
       "      <td>233.506524</td>\n",
       "      <td>64.890625</td>\n",
       "      <td>2015-12-18</td>\n",
       "    </tr>\n",
       "    <tr>\n",
       "      <th>435736</th>\n",
       "      <td>West Bengal</td>\n",
       "      <td>ULUBERIA</td>\n",
       "      <td>RIRUO</td>\n",
       "      <td>18.0</td>\n",
       "      <td>45.0</td>\n",
       "      <td>140.0</td>\n",
       "      <td>233.506524</td>\n",
       "      <td>64.890625</td>\n",
       "      <td>2015-12-21</td>\n",
       "    </tr>\n",
       "    <tr>\n",
       "      <th>435737</th>\n",
       "      <td>West Bengal</td>\n",
       "      <td>ULUBERIA</td>\n",
       "      <td>RIRUO</td>\n",
       "      <td>22.0</td>\n",
       "      <td>50.0</td>\n",
       "      <td>143.0</td>\n",
       "      <td>233.506524</td>\n",
       "      <td>64.890625</td>\n",
       "      <td>2015-12-24</td>\n",
       "    </tr>\n",
       "    <tr>\n",
       "      <th>435738</th>\n",
       "      <td>West Bengal</td>\n",
       "      <td>ULUBERIA</td>\n",
       "      <td>RIRUO</td>\n",
       "      <td>20.0</td>\n",
       "      <td>46.0</td>\n",
       "      <td>171.0</td>\n",
       "      <td>233.506524</td>\n",
       "      <td>64.890625</td>\n",
       "      <td>2015-12-29</td>\n",
       "    </tr>\n",
       "    <tr>\n",
       "      <th>435739</th>\n",
       "      <td>andaman-and-nicobar-islands</td>\n",
       "      <td>NaN</td>\n",
       "      <td>NaN</td>\n",
       "      <td>NaN</td>\n",
       "      <td>NaN</td>\n",
       "      <td>NaN</td>\n",
       "      <td>NaN</td>\n",
       "      <td>NaN</td>\n",
       "      <td>NaN</td>\n",
       "    </tr>\n",
       "    <tr>\n",
       "      <th>435740</th>\n",
       "      <td>Lakshadweep</td>\n",
       "      <td>NaN</td>\n",
       "      <td>NaN</td>\n",
       "      <td>NaN</td>\n",
       "      <td>NaN</td>\n",
       "      <td>NaN</td>\n",
       "      <td>NaN</td>\n",
       "      <td>NaN</td>\n",
       "      <td>NaN</td>\n",
       "    </tr>\n",
       "    <tr>\n",
       "      <th>435741</th>\n",
       "      <td>Tripura</td>\n",
       "      <td>NaN</td>\n",
       "      <td>NaN</td>\n",
       "      <td>NaN</td>\n",
       "      <td>NaN</td>\n",
       "      <td>NaN</td>\n",
       "      <td>NaN</td>\n",
       "      <td>NaN</td>\n",
       "      <td>NaN</td>\n",
       "    </tr>\n",
       "  </tbody>\n",
       "</table>\n",
       "</div>"
      ],
      "text/plain": [
       "                              state  location   type   so2   no2   rspm  \\\n",
       "435732                  West Bengal  ULUBERIA  RIRUO  22.0  50.0  145.0   \n",
       "435733                  West Bengal  ULUBERIA  RIRUO  34.0  61.0  161.0   \n",
       "435734                  West Bengal  ULUBERIA  RIRUO  20.0  44.0  148.0   \n",
       "435735                  West Bengal  ULUBERIA  RIRUO  17.0  44.0  131.0   \n",
       "435736                  West Bengal  ULUBERIA  RIRUO  18.0  45.0  140.0   \n",
       "435737                  West Bengal  ULUBERIA  RIRUO  22.0  50.0  143.0   \n",
       "435738                  West Bengal  ULUBERIA  RIRUO  20.0  46.0  171.0   \n",
       "435739  andaman-and-nicobar-islands       NaN    NaN   NaN   NaN    NaN   \n",
       "435740                  Lakshadweep       NaN    NaN   NaN   NaN    NaN   \n",
       "435741                      Tripura       NaN    NaN   NaN   NaN    NaN   \n",
       "\n",
       "               spm      pm2_5        date  \n",
       "435732  233.506524  64.890625  2015-12-09  \n",
       "435733  233.506524  64.890625  2015-12-12  \n",
       "435734  233.506524  64.890625  2015-12-15  \n",
       "435735  233.506524  64.890625  2015-12-18  \n",
       "435736  233.506524  64.890625  2015-12-21  \n",
       "435737  233.506524  64.890625  2015-12-24  \n",
       "435738  233.506524  64.890625  2015-12-29  \n",
       "435739         NaN        NaN         NaN  \n",
       "435740         NaN        NaN         NaN  \n",
       "435741         NaN        NaN         NaN  "
      ]
     },
     "execution_count": 343,
     "metadata": {},
     "output_type": "execute_result"
    }
   ],
   "source": [
    "data.tail(10)"
   ]
  },
  {
   "cell_type": "markdown",
   "metadata": {},
   "source": [
    "# CALCULATE AIR QUALITY INDEX FOR SO2 BASED ON FORMULA\n",
    "\n",
    "The air quality index is a piecewise linear function of the pollutant concentration. At the boundary between AQI categories, there is a discontinuous jump of one AQI unit. To convert from concentration to AQI this equation is used\n",
    "\\begin{equation*}\n",
    "I = I_{low} +  \\frac{I_{high}-I_{low}}{C_{high}-C_{low}}{(C-C_{low})}\n",
    "\\end{equation*}\n",
    "\n"
   ]
  },
  {
   "cell_type": "markdown",
   "metadata": {},
   "source": [
    "**What is sulfur dioxide?**\n",
    "\n",
    "Sulfur dioxide is a gas. It is invisible and has a nasty, sharp smell. It reacts easily with other substances to form harmful compounds, such as sulfuric acid, sulfurous acid and sulfate particles.\n",
    "\n",
    "About 99% of the sulfur dioxide in air comes from human sources. The main source of sulfur dioxide in the air is industrial activity that processes materials that contain sulfur, eg the generation of electricity from coal, oil or gas that contains sulfur. Some mineral ores also contain sulfur, and sulfur dioxide is released when they are processed. In addition, industrial activities that burn fossil fuels containing sulfur can be important sources of sulfur dioxide.\n",
    "\n",
    "Sulfur dioxide is also present in motor vehicle emissions, as the result of fuel combustion. In the past, motor vehicle exhaust was an important, but not the main, source of sulfur dioxide in air. However, this is no longer the case."
   ]
  },
  {
   "cell_type": "code",
   "execution_count": 346,
   "metadata": {},
   "outputs": [
    {
     "data": {
      "text/html": [
       "<div>\n",
       "<style scoped>\n",
       "    .dataframe tbody tr th:only-of-type {\n",
       "        vertical-align: middle;\n",
       "    }\n",
       "\n",
       "    .dataframe tbody tr th {\n",
       "        vertical-align: top;\n",
       "    }\n",
       "\n",
       "    .dataframe thead th {\n",
       "        text-align: right;\n",
       "    }\n",
       "</style>\n",
       "<table border=\"1\" class=\"dataframe\">\n",
       "  <thead>\n",
       "    <tr style=\"text-align: right;\">\n",
       "      <th></th>\n",
       "      <th>so2</th>\n",
       "      <th>SOi</th>\n",
       "    </tr>\n",
       "  </thead>\n",
       "  <tbody>\n",
       "    <tr>\n",
       "      <th>0</th>\n",
       "      <td>4.8</td>\n",
       "      <td>4.8</td>\n",
       "    </tr>\n",
       "    <tr>\n",
       "      <th>1</th>\n",
       "      <td>3.1</td>\n",
       "      <td>3.1</td>\n",
       "    </tr>\n",
       "    <tr>\n",
       "      <th>2</th>\n",
       "      <td>6.2</td>\n",
       "      <td>6.2</td>\n",
       "    </tr>\n",
       "    <tr>\n",
       "      <th>3</th>\n",
       "      <td>6.3</td>\n",
       "      <td>6.3</td>\n",
       "    </tr>\n",
       "    <tr>\n",
       "      <th>4</th>\n",
       "      <td>4.7</td>\n",
       "      <td>4.7</td>\n",
       "    </tr>\n",
       "  </tbody>\n",
       "</table>\n",
       "</div>"
      ],
      "text/plain": [
       "   so2  SOi\n",
       "0  4.8  4.8\n",
       "1  3.1  3.1\n",
       "2  6.2  6.2\n",
       "3  6.3  6.3\n",
       "4  4.7  4.7"
      ]
     },
     "execution_count": 346,
     "metadata": {},
     "output_type": "execute_result"
    }
   ],
   "source": [
    "def cal_SOi(so2):\n",
    "    si=0\n",
    "    if (so2<=40):\n",
    "     si= so2*(50/40)\n",
    "    elif (so2>40 and so2<=80):\n",
    "     si= 50+(so2-40)*(50/40)\n",
    "    elif (so2>80 and so2<=380):\n",
    "     si= 100+(so2-80)*(100/300)\n",
    "    elif (so2>380 and so2<=800):\n",
    "     si= 200+(so2-380)*(100/420)\n",
    "    elif (so2>800 and so2<=1600):\n",
    "     si= 300+(so2-800)*(100/800)\n",
    "    elif (so2>1600):\n",
    "     si= 400+(so2-1600)*(100/800)\n",
    "    return si\n",
    "data['SOi']=data['so2'].apply(cal_SOi)\n",
    "df= data[['so2','SOi']]\n",
    "df.head()"
   ]
  },
  {
   "cell_type": "markdown",
   "metadata": {},
   "source": [
    "# CALCULATE  AIR QUALITY INDEX FOR NO2 BASED ON FORMULA"
   ]
  },
  {
   "cell_type": "code",
   "execution_count": 347,
   "metadata": {},
   "outputs": [
    {
     "data": {
      "text/html": [
       "<div>\n",
       "<style scoped>\n",
       "    .dataframe tbody tr th:only-of-type {\n",
       "        vertical-align: middle;\n",
       "    }\n",
       "\n",
       "    .dataframe tbody tr th {\n",
       "        vertical-align: top;\n",
       "    }\n",
       "\n",
       "    .dataframe thead th {\n",
       "        text-align: right;\n",
       "    }\n",
       "</style>\n",
       "<table border=\"1\" class=\"dataframe\">\n",
       "  <thead>\n",
       "    <tr style=\"text-align: right;\">\n",
       "      <th></th>\n",
       "      <th>no2</th>\n",
       "      <th>Noi</th>\n",
       "    </tr>\n",
       "  </thead>\n",
       "  <tbody>\n",
       "    <tr>\n",
       "      <th>0</th>\n",
       "      <td>17.4</td>\n",
       "      <td>21.750</td>\n",
       "    </tr>\n",
       "    <tr>\n",
       "      <th>1</th>\n",
       "      <td>7.0</td>\n",
       "      <td>8.750</td>\n",
       "    </tr>\n",
       "    <tr>\n",
       "      <th>2</th>\n",
       "      <td>28.5</td>\n",
       "      <td>35.625</td>\n",
       "    </tr>\n",
       "    <tr>\n",
       "      <th>3</th>\n",
       "      <td>14.7</td>\n",
       "      <td>18.375</td>\n",
       "    </tr>\n",
       "    <tr>\n",
       "      <th>4</th>\n",
       "      <td>7.5</td>\n",
       "      <td>9.375</td>\n",
       "    </tr>\n",
       "  </tbody>\n",
       "</table>\n",
       "</div>"
      ],
      "text/plain": [
       "    no2     Noi\n",
       "0  17.4  21.750\n",
       "1   7.0   8.750\n",
       "2  28.5  35.625\n",
       "3  14.7  18.375\n",
       "4   7.5   9.375"
      ]
     },
     "execution_count": 347,
     "metadata": {},
     "output_type": "execute_result"
    }
   ],
   "source": [
    "def cal_Noi(no2):\n",
    "    ni=0\n",
    "    if(no2<=40):\n",
    "     ni= no2*50/40\n",
    "    elif(no2>40 and no2<=80):\n",
    "     ni= 50+(no2-40)*(50/40)\n",
    "    elif(no2>80 and no2<=180):\n",
    "     ni= 100+(no2-80)*(100/100)\n",
    "    elif(no2>180 and no2<=280):\n",
    "     ni= 200+(no2-180)*(100/100)\n",
    "    elif(no2>280 and no2<=400):\n",
    "     ni= 300+(no2-280)*(100/120)\n",
    "    else:\n",
    "     ni= 400+(no2-400)*(100/120)\n",
    "    return ni\n",
    "data['Noi']=data['no2'].apply(cal_Noi)\n",
    "df= data[['no2','Noi']]\n",
    "df.head()"
   ]
  },
  {
   "cell_type": "markdown",
   "metadata": {},
   "source": [
    "# CALCULATE  AIR QUALITY INDEX FOR RSPM BASED ON FORMULA"
   ]
  },
  {
   "cell_type": "code",
   "execution_count": 348,
   "metadata": {},
   "outputs": [
    {
     "data": {
      "text/html": [
       "<div>\n",
       "<style scoped>\n",
       "    .dataframe tbody tr th:only-of-type {\n",
       "        vertical-align: middle;\n",
       "    }\n",
       "\n",
       "    .dataframe tbody tr th {\n",
       "        vertical-align: top;\n",
       "    }\n",
       "\n",
       "    .dataframe thead th {\n",
       "        text-align: right;\n",
       "    }\n",
       "</style>\n",
       "<table border=\"1\" class=\"dataframe\">\n",
       "  <thead>\n",
       "    <tr style=\"text-align: right;\">\n",
       "      <th></th>\n",
       "      <th>rspm</th>\n",
       "      <th>RSPMi</th>\n",
       "    </tr>\n",
       "  </thead>\n",
       "  <tbody>\n",
       "    <tr>\n",
       "      <th>0</th>\n",
       "      <td>78.182824</td>\n",
       "      <td>78.182824</td>\n",
       "    </tr>\n",
       "    <tr>\n",
       "      <th>1</th>\n",
       "      <td>78.182824</td>\n",
       "      <td>78.182824</td>\n",
       "    </tr>\n",
       "    <tr>\n",
       "      <th>2</th>\n",
       "      <td>78.182824</td>\n",
       "      <td>78.182824</td>\n",
       "    </tr>\n",
       "    <tr>\n",
       "      <th>3</th>\n",
       "      <td>78.182824</td>\n",
       "      <td>78.182824</td>\n",
       "    </tr>\n",
       "    <tr>\n",
       "      <th>4</th>\n",
       "      <td>78.182824</td>\n",
       "      <td>78.182824</td>\n",
       "    </tr>\n",
       "  </tbody>\n",
       "</table>\n",
       "</div>"
      ],
      "text/plain": [
       "        rspm      RSPMi\n",
       "0  78.182824  78.182824\n",
       "1  78.182824  78.182824\n",
       "2  78.182824  78.182824\n",
       "3  78.182824  78.182824\n",
       "4  78.182824  78.182824"
      ]
     },
     "execution_count": 348,
     "metadata": {},
     "output_type": "execute_result"
    }
   ],
   "source": [
    "def cal_RSPMi(rspm):\n",
    "    rpi=0\n",
    "    if(rspm<=100):\n",
    "     rpi = rspm\n",
    "    elif(rspm>=101 and rspm<=150):\n",
    "     rpi= 101+(rspm-101)*((200-101)/(150-101))\n",
    "    elif(rspm>=151 and rspm<=350):\n",
    "     ni= 201+(rspm-151)*((300-201)/(350-151))\n",
    "    elif(rspm>=351 and rspm<=420):\n",
    "     ni= 301+(rspm-351)*((400-301)/(420-351))\n",
    "    elif(rspm>420):\n",
    "     ni= 401+(rspm-420)*((500-401)/(420-351))\n",
    "    return rpi\n",
    "data['RSPMi']=data['rspm'].apply(cal_RSPMi)\n",
    "df= data[['rspm','RSPMi']]\n",
    "df.head()"
   ]
  },
  {
   "cell_type": "code",
   "execution_count": 349,
   "metadata": {},
   "outputs": [
    {
     "data": {
      "text/html": [
       "<div>\n",
       "<style scoped>\n",
       "    .dataframe tbody tr th:only-of-type {\n",
       "        vertical-align: middle;\n",
       "    }\n",
       "\n",
       "    .dataframe tbody tr th {\n",
       "        vertical-align: top;\n",
       "    }\n",
       "\n",
       "    .dataframe thead th {\n",
       "        text-align: right;\n",
       "    }\n",
       "</style>\n",
       "<table border=\"1\" class=\"dataframe\">\n",
       "  <thead>\n",
       "    <tr style=\"text-align: right;\">\n",
       "      <th></th>\n",
       "      <th>rspm</th>\n",
       "      <th>RSPMi</th>\n",
       "    </tr>\n",
       "  </thead>\n",
       "  <tbody>\n",
       "    <tr>\n",
       "      <th>435737</th>\n",
       "      <td>143.0</td>\n",
       "      <td>185.0</td>\n",
       "    </tr>\n",
       "    <tr>\n",
       "      <th>435738</th>\n",
       "      <td>171.0</td>\n",
       "      <td>0.0</td>\n",
       "    </tr>\n",
       "    <tr>\n",
       "      <th>435739</th>\n",
       "      <td>NaN</td>\n",
       "      <td>0.0</td>\n",
       "    </tr>\n",
       "    <tr>\n",
       "      <th>435740</th>\n",
       "      <td>NaN</td>\n",
       "      <td>0.0</td>\n",
       "    </tr>\n",
       "    <tr>\n",
       "      <th>435741</th>\n",
       "      <td>NaN</td>\n",
       "      <td>0.0</td>\n",
       "    </tr>\n",
       "  </tbody>\n",
       "</table>\n",
       "</div>"
      ],
      "text/plain": [
       "         rspm  RSPMi\n",
       "435737  143.0  185.0\n",
       "435738  171.0    0.0\n",
       "435739    NaN    0.0\n",
       "435740    NaN    0.0\n",
       "435741    NaN    0.0"
      ]
     },
     "execution_count": 349,
     "metadata": {},
     "output_type": "execute_result"
    }
   ],
   "source": [
    "df.tail()"
   ]
  },
  {
   "cell_type": "markdown",
   "metadata": {},
   "source": [
    "# CALCULATE  AIR QUALITY INDEX FOR SPM BASED ON FORMULA"
   ]
  },
  {
   "cell_type": "code",
   "execution_count": 351,
   "metadata": {},
   "outputs": [
    {
     "data": {
      "text/html": [
       "<div>\n",
       "<style scoped>\n",
       "    .dataframe tbody tr th:only-of-type {\n",
       "        vertical-align: middle;\n",
       "    }\n",
       "\n",
       "    .dataframe tbody tr th {\n",
       "        vertical-align: top;\n",
       "    }\n",
       "\n",
       "    .dataframe thead th {\n",
       "        text-align: right;\n",
       "    }\n",
       "</style>\n",
       "<table border=\"1\" class=\"dataframe\">\n",
       "  <thead>\n",
       "    <tr style=\"text-align: right;\">\n",
       "      <th></th>\n",
       "      <th>spm</th>\n",
       "      <th>SPMi</th>\n",
       "    </tr>\n",
       "  </thead>\n",
       "  <tbody>\n",
       "    <tr>\n",
       "      <th>0</th>\n",
       "      <td>200.260378</td>\n",
       "      <td>100.0</td>\n",
       "    </tr>\n",
       "    <tr>\n",
       "      <th>1</th>\n",
       "      <td>200.260378</td>\n",
       "      <td>100.0</td>\n",
       "    </tr>\n",
       "    <tr>\n",
       "      <th>2</th>\n",
       "      <td>200.260378</td>\n",
       "      <td>100.0</td>\n",
       "    </tr>\n",
       "    <tr>\n",
       "      <th>3</th>\n",
       "      <td>200.260378</td>\n",
       "      <td>100.0</td>\n",
       "    </tr>\n",
       "    <tr>\n",
       "      <th>4</th>\n",
       "      <td>200.260378</td>\n",
       "      <td>100.0</td>\n",
       "    </tr>\n",
       "  </tbody>\n",
       "</table>\n",
       "</div>"
      ],
      "text/plain": [
       "          spm   SPMi\n",
       "0  200.260378  100.0\n",
       "1  200.260378  100.0\n",
       "2  200.260378  100.0\n",
       "3  200.260378  100.0\n",
       "4  200.260378  100.0"
      ]
     },
     "execution_count": 351,
     "metadata": {},
     "output_type": "execute_result"
    }
   ],
   "source": [
    "def cal_SPMi(spm):\n",
    "    spi=0\n",
    "    if(spm<=50):\n",
    "     spi=spm*50/50\n",
    "    elif(spm>50 and spm<=100):\n",
    "     spi=50+(spm-50)*(50/50)\n",
    "    elif(spm>100 and spm<=250):\n",
    "     spi= 100+(spm-100)*(100/150)\n",
    "    elif(spm>250 and spm<=350):\n",
    "     spi=200+(spm-250)*(100/100)\n",
    "    elif(spm>350 and spm<=430):\n",
    "     spi=300+(spm-350)*(100/80)\n",
    "    else:\n",
    "     spi=400+(spm-430)*(100/430)\n",
    "    return spi\n",
    "   \n",
    "data['SPMi']=data['spm'].apply(cal_SPMi)\n",
    "df= data[['spm','SPMi']]\n",
    "df.head()"
   ]
  },
  {
   "cell_type": "markdown",
   "metadata": {},
   "source": [
    "# CALCULATE  AIR QUALITY INDEX FOR PM 2.5 BASED ON FORMULA"
   ]
  },
  {
   "cell_type": "code",
   "execution_count": 165,
   "metadata": {},
   "outputs": [
    {
     "data": {
      "text/html": [
       "<div>\n",
       "<style scoped>\n",
       "    .dataframe tbody tr th:only-of-type {\n",
       "        vertical-align: middle;\n",
       "    }\n",
       "\n",
       "    .dataframe tbody tr th {\n",
       "        vertical-align: top;\n",
       "    }\n",
       "\n",
       "    .dataframe thead th {\n",
       "        text-align: right;\n",
       "    }\n",
       "</style>\n",
       "<table border=\"1\" class=\"dataframe\">\n",
       "  <thead>\n",
       "    <tr style=\"text-align: right;\">\n",
       "      <th></th>\n",
       "      <th>pm2_5</th>\n",
       "      <th>PMi</th>\n",
       "    </tr>\n",
       "  </thead>\n",
       "  <tbody>\n",
       "    <tr>\n",
       "      <th>0</th>\n",
       "      <td>NaN</td>\n",
       "      <td>NaN</td>\n",
       "    </tr>\n",
       "    <tr>\n",
       "      <th>1</th>\n",
       "      <td>NaN</td>\n",
       "      <td>NaN</td>\n",
       "    </tr>\n",
       "    <tr>\n",
       "      <th>2</th>\n",
       "      <td>NaN</td>\n",
       "      <td>NaN</td>\n",
       "    </tr>\n",
       "    <tr>\n",
       "      <th>3</th>\n",
       "      <td>NaN</td>\n",
       "      <td>NaN</td>\n",
       "    </tr>\n",
       "    <tr>\n",
       "      <th>4</th>\n",
       "      <td>NaN</td>\n",
       "      <td>NaN</td>\n",
       "    </tr>\n",
       "  </tbody>\n",
       "</table>\n",
       "</div>"
      ],
      "text/plain": [
       "   pm2_5  PMi\n",
       "0    NaN  NaN\n",
       "1    NaN  NaN\n",
       "2    NaN  NaN\n",
       "3    NaN  NaN\n",
       "4    NaN  NaN"
      ]
     },
     "execution_count": 165,
     "metadata": {},
     "output_type": "execute_result"
    }
   ],
   "source": [
    "def cal_pmi(pm2_5):\n",
    "    pmi=0\n",
    "    if(pm2_5<=50):\n",
    "     pmi=pm2_5*(50/50)\n",
    "    elif(pm2_5>50 and pm2_5<=100):\n",
    "     pmi=50+(pm2_5-50)*(50/50)\n",
    "    elif(pm2_5>100 and pm2_5<=250):\n",
    "     pmi= 100+(pm2_5-100)*(100/150)\n",
    "    elif(pm2_5>250 and pm2_5<=350):\n",
    "     pmi=200+(pm2_5-250)*(100/100)\n",
    "    elif(pm2_5>350 and pm2_5<=450):\n",
    "     pmi=300+(pm2_5-350)*(100/100)\n",
    "    else:\n",
    "     pmi=400+(pm2_5-430)*(100/80)\n",
    "    return pmi\n",
    "data['PMi']=data['pm2_5'].apply(cal_pmi)\n",
    "df= data[['pm2_5','PMi']]\n",
    "df.head()\n"
   ]
  },
  {
   "cell_type": "code",
   "execution_count": 166,
   "metadata": {},
   "outputs": [
    {
     "data": {
      "text/plain": [
       "pandas.core.series.Series"
      ]
     },
     "execution_count": 166,
     "metadata": {},
     "output_type": "execute_result"
    }
   ],
   "source": [
    "type(data['PMi'])"
   ]
  },
  {
   "cell_type": "markdown",
   "metadata": {},
   "source": [
    "Based on the measured ambient concentrations, corresponding standards and likely health impact, a sub-index is calculated for each of these pollutants. The worst sub-index reflects overall AQI.If multiple pollutants are measured at a monitoring site, then the largest or \"dominant\" AQI value is reported for the location"
   ]
  },
  {
   "cell_type": "code",
   "execution_count": 167,
   "metadata": {},
   "outputs": [
    {
     "data": {
      "text/html": [
       "<div>\n",
       "<style scoped>\n",
       "    .dataframe tbody tr th:only-of-type {\n",
       "        vertical-align: middle;\n",
       "    }\n",
       "\n",
       "    .dataframe tbody tr th {\n",
       "        vertical-align: top;\n",
       "    }\n",
       "\n",
       "    .dataframe thead th {\n",
       "        text-align: right;\n",
       "    }\n",
       "</style>\n",
       "<table border=\"1\" class=\"dataframe\">\n",
       "  <thead>\n",
       "    <tr style=\"text-align: right;\">\n",
       "      <th></th>\n",
       "      <th>state</th>\n",
       "      <th>SOi</th>\n",
       "      <th>Noi</th>\n",
       "      <th>RSPMi</th>\n",
       "      <th>SPMi</th>\n",
       "      <th>AQI</th>\n",
       "    </tr>\n",
       "  </thead>\n",
       "  <tbody>\n",
       "    <tr>\n",
       "      <th>0</th>\n",
       "      <td>Andhra Pradesh</td>\n",
       "      <td>4.8</td>\n",
       "      <td>21.750</td>\n",
       "      <td>78.182824</td>\n",
       "      <td>100.0</td>\n",
       "      <td>100.0</td>\n",
       "    </tr>\n",
       "    <tr>\n",
       "      <th>1</th>\n",
       "      <td>Andhra Pradesh</td>\n",
       "      <td>3.1</td>\n",
       "      <td>8.750</td>\n",
       "      <td>78.182824</td>\n",
       "      <td>100.0</td>\n",
       "      <td>100.0</td>\n",
       "    </tr>\n",
       "    <tr>\n",
       "      <th>2</th>\n",
       "      <td>Andhra Pradesh</td>\n",
       "      <td>6.2</td>\n",
       "      <td>35.625</td>\n",
       "      <td>78.182824</td>\n",
       "      <td>100.0</td>\n",
       "      <td>100.0</td>\n",
       "    </tr>\n",
       "    <tr>\n",
       "      <th>3</th>\n",
       "      <td>Andhra Pradesh</td>\n",
       "      <td>6.3</td>\n",
       "      <td>18.375</td>\n",
       "      <td>78.182824</td>\n",
       "      <td>100.0</td>\n",
       "      <td>100.0</td>\n",
       "    </tr>\n",
       "    <tr>\n",
       "      <th>4</th>\n",
       "      <td>Andhra Pradesh</td>\n",
       "      <td>4.7</td>\n",
       "      <td>9.375</td>\n",
       "      <td>78.182824</td>\n",
       "      <td>100.0</td>\n",
       "      <td>100.0</td>\n",
       "    </tr>\n",
       "  </tbody>\n",
       "</table>\n",
       "</div>"
      ],
      "text/plain": [
       "            state  SOi     Noi      RSPMi   SPMi    AQI\n",
       "0  Andhra Pradesh  4.8  21.750  78.182824  100.0  100.0\n",
       "1  Andhra Pradesh  3.1   8.750  78.182824  100.0  100.0\n",
       "2  Andhra Pradesh  6.2  35.625  78.182824  100.0  100.0\n",
       "3  Andhra Pradesh  6.3  18.375  78.182824  100.0  100.0\n",
       "4  Andhra Pradesh  4.7   9.375  78.182824  100.0  100.0"
      ]
     },
     "execution_count": 167,
     "metadata": {},
     "output_type": "execute_result"
    }
   ],
   "source": [
    "def cal_aqi(si,ni,rspmi,spmi):\n",
    "    aqi=0\n",
    "    if(si>ni and si>rspmi and si>spmi):\n",
    "     aqi=si\n",
    "    if(ni>si and ni>rspmi and ni>spmi ):\n",
    "     aqi=ni\n",
    "    if(rspmi>si and rspmi>ni and rspmi>spmi ):\n",
    "     aqi=rspmi\n",
    "    if(spmi>si and spmi>ni and spmi>rspmi):\n",
    "     aqi=spmi\n",
    "    return aqi\n",
    "\n",
    "data['AQI']=data.apply(lambda x:cal_aqi(x['SOi'],x['Noi'],x['RSPMi'],x['SPMi']),axis=1)\n",
    "df= data[['state','SOi','Noi','RSPMi','SPMi','AQI']]\n",
    "df.head()\n"
   ]
  },
  {
   "cell_type": "code",
   "execution_count": 168,
   "metadata": {},
   "outputs": [
    {
     "data": {
      "text/html": [
       "<div>\n",
       "<style scoped>\n",
       "    .dataframe tbody tr th:only-of-type {\n",
       "        vertical-align: middle;\n",
       "    }\n",
       "\n",
       "    .dataframe tbody tr th {\n",
       "        vertical-align: top;\n",
       "    }\n",
       "\n",
       "    .dataframe thead th {\n",
       "        text-align: right;\n",
       "    }\n",
       "</style>\n",
       "<table border=\"1\" class=\"dataframe\">\n",
       "  <thead>\n",
       "    <tr style=\"text-align: right;\">\n",
       "      <th></th>\n",
       "      <th>state</th>\n",
       "      <th>location</th>\n",
       "      <th>type</th>\n",
       "      <th>so2</th>\n",
       "      <th>no2</th>\n",
       "      <th>rspm</th>\n",
       "      <th>spm</th>\n",
       "      <th>pm2_5</th>\n",
       "      <th>date</th>\n",
       "      <th>SOi</th>\n",
       "      <th>Noi</th>\n",
       "      <th>RSPMi</th>\n",
       "      <th>SPMi</th>\n",
       "      <th>PMi</th>\n",
       "      <th>AQI</th>\n",
       "    </tr>\n",
       "  </thead>\n",
       "  <tbody>\n",
       "    <tr>\n",
       "      <th>0</th>\n",
       "      <td>Andhra Pradesh</td>\n",
       "      <td>Hyderabad</td>\n",
       "      <td>Residential, Rural and other Areas</td>\n",
       "      <td>4.8</td>\n",
       "      <td>17.4</td>\n",
       "      <td>78.182824</td>\n",
       "      <td>200.260378</td>\n",
       "      <td>NaN</td>\n",
       "      <td>1990-02-01</td>\n",
       "      <td>4.8</td>\n",
       "      <td>21.750</td>\n",
       "      <td>78.182824</td>\n",
       "      <td>100.0</td>\n",
       "      <td>NaN</td>\n",
       "      <td>100.0</td>\n",
       "    </tr>\n",
       "    <tr>\n",
       "      <th>1</th>\n",
       "      <td>Andhra Pradesh</td>\n",
       "      <td>Hyderabad</td>\n",
       "      <td>Industrial Area</td>\n",
       "      <td>3.1</td>\n",
       "      <td>7.0</td>\n",
       "      <td>78.182824</td>\n",
       "      <td>200.260378</td>\n",
       "      <td>NaN</td>\n",
       "      <td>1990-02-01</td>\n",
       "      <td>3.1</td>\n",
       "      <td>8.750</td>\n",
       "      <td>78.182824</td>\n",
       "      <td>100.0</td>\n",
       "      <td>NaN</td>\n",
       "      <td>100.0</td>\n",
       "    </tr>\n",
       "    <tr>\n",
       "      <th>2</th>\n",
       "      <td>Andhra Pradesh</td>\n",
       "      <td>Hyderabad</td>\n",
       "      <td>Residential, Rural and other Areas</td>\n",
       "      <td>6.2</td>\n",
       "      <td>28.5</td>\n",
       "      <td>78.182824</td>\n",
       "      <td>200.260378</td>\n",
       "      <td>NaN</td>\n",
       "      <td>1990-02-01</td>\n",
       "      <td>6.2</td>\n",
       "      <td>35.625</td>\n",
       "      <td>78.182824</td>\n",
       "      <td>100.0</td>\n",
       "      <td>NaN</td>\n",
       "      <td>100.0</td>\n",
       "    </tr>\n",
       "    <tr>\n",
       "      <th>3</th>\n",
       "      <td>Andhra Pradesh</td>\n",
       "      <td>Hyderabad</td>\n",
       "      <td>Residential, Rural and other Areas</td>\n",
       "      <td>6.3</td>\n",
       "      <td>14.7</td>\n",
       "      <td>78.182824</td>\n",
       "      <td>200.260378</td>\n",
       "      <td>NaN</td>\n",
       "      <td>1990-03-01</td>\n",
       "      <td>6.3</td>\n",
       "      <td>18.375</td>\n",
       "      <td>78.182824</td>\n",
       "      <td>100.0</td>\n",
       "      <td>NaN</td>\n",
       "      <td>100.0</td>\n",
       "    </tr>\n",
       "    <tr>\n",
       "      <th>4</th>\n",
       "      <td>Andhra Pradesh</td>\n",
       "      <td>Hyderabad</td>\n",
       "      <td>Industrial Area</td>\n",
       "      <td>4.7</td>\n",
       "      <td>7.5</td>\n",
       "      <td>78.182824</td>\n",
       "      <td>200.260378</td>\n",
       "      <td>NaN</td>\n",
       "      <td>1990-03-01</td>\n",
       "      <td>4.7</td>\n",
       "      <td>9.375</td>\n",
       "      <td>78.182824</td>\n",
       "      <td>100.0</td>\n",
       "      <td>NaN</td>\n",
       "      <td>100.0</td>\n",
       "    </tr>\n",
       "  </tbody>\n",
       "</table>\n",
       "</div>"
      ],
      "text/plain": [
       "            state   location                                type  so2   no2  \\\n",
       "0  Andhra Pradesh  Hyderabad  Residential, Rural and other Areas  4.8  17.4   \n",
       "1  Andhra Pradesh  Hyderabad                     Industrial Area  3.1   7.0   \n",
       "2  Andhra Pradesh  Hyderabad  Residential, Rural and other Areas  6.2  28.5   \n",
       "3  Andhra Pradesh  Hyderabad  Residential, Rural and other Areas  6.3  14.7   \n",
       "4  Andhra Pradesh  Hyderabad                     Industrial Area  4.7   7.5   \n",
       "\n",
       "        rspm         spm  pm2_5        date  SOi     Noi      RSPMi   SPMi  \\\n",
       "0  78.182824  200.260378    NaN  1990-02-01  4.8  21.750  78.182824  100.0   \n",
       "1  78.182824  200.260378    NaN  1990-02-01  3.1   8.750  78.182824  100.0   \n",
       "2  78.182824  200.260378    NaN  1990-02-01  6.2  35.625  78.182824  100.0   \n",
       "3  78.182824  200.260378    NaN  1990-03-01  6.3  18.375  78.182824  100.0   \n",
       "4  78.182824  200.260378    NaN  1990-03-01  4.7   9.375  78.182824  100.0   \n",
       "\n",
       "   PMi    AQI  \n",
       "0  NaN  100.0  \n",
       "1  NaN  100.0  \n",
       "2  NaN  100.0  \n",
       "3  NaN  100.0  \n",
       "4  NaN  100.0  "
      ]
     },
     "execution_count": 168,
     "metadata": {},
     "output_type": "execute_result"
    }
   ],
   "source": [
    "data.head()"
   ]
  },
  {
   "cell_type": "code",
   "execution_count": null,
   "metadata": {
    "collapsed": true
   },
   "outputs": [],
   "source": []
  },
  {
   "cell_type": "markdown",
   "metadata": {},
   "source": [
    "# AQI RANGE for corresponding AQI value "
   ]
  },
  {
   "cell_type": "code",
   "execution_count": 170,
   "metadata": {},
   "outputs": [
    {
     "data": {
      "text/html": [
       "<div>\n",
       "<style scoped>\n",
       "    .dataframe tbody tr th:only-of-type {\n",
       "        vertical-align: middle;\n",
       "    }\n",
       "\n",
       "    .dataframe tbody tr th {\n",
       "        vertical-align: top;\n",
       "    }\n",
       "\n",
       "    .dataframe thead th {\n",
       "        text-align: right;\n",
       "    }\n",
       "</style>\n",
       "<table border=\"1\" class=\"dataframe\">\n",
       "  <thead>\n",
       "    <tr style=\"text-align: right;\">\n",
       "      <th></th>\n",
       "      <th>state</th>\n",
       "      <th>location</th>\n",
       "      <th>type</th>\n",
       "      <th>so2</th>\n",
       "      <th>no2</th>\n",
       "      <th>rspm</th>\n",
       "      <th>spm</th>\n",
       "      <th>pm2_5</th>\n",
       "      <th>date</th>\n",
       "      <th>SOi</th>\n",
       "      <th>Noi</th>\n",
       "      <th>RSPMi</th>\n",
       "      <th>SPMi</th>\n",
       "      <th>PMi</th>\n",
       "      <th>AQI</th>\n",
       "      <th>AQI_Range</th>\n",
       "    </tr>\n",
       "  </thead>\n",
       "  <tbody>\n",
       "    <tr>\n",
       "      <th>0</th>\n",
       "      <td>Andhra Pradesh</td>\n",
       "      <td>Hyderabad</td>\n",
       "      <td>Residential, Rural and other Areas</td>\n",
       "      <td>4.8</td>\n",
       "      <td>17.4</td>\n",
       "      <td>78.182824</td>\n",
       "      <td>200.260378</td>\n",
       "      <td>NaN</td>\n",
       "      <td>1990-02-01</td>\n",
       "      <td>4.8</td>\n",
       "      <td>21.750</td>\n",
       "      <td>78.182824</td>\n",
       "      <td>100.0</td>\n",
       "      <td>NaN</td>\n",
       "      <td>100.0</td>\n",
       "      <td>Moderate</td>\n",
       "    </tr>\n",
       "    <tr>\n",
       "      <th>1</th>\n",
       "      <td>Andhra Pradesh</td>\n",
       "      <td>Hyderabad</td>\n",
       "      <td>Industrial Area</td>\n",
       "      <td>3.1</td>\n",
       "      <td>7.0</td>\n",
       "      <td>78.182824</td>\n",
       "      <td>200.260378</td>\n",
       "      <td>NaN</td>\n",
       "      <td>1990-02-01</td>\n",
       "      <td>3.1</td>\n",
       "      <td>8.750</td>\n",
       "      <td>78.182824</td>\n",
       "      <td>100.0</td>\n",
       "      <td>NaN</td>\n",
       "      <td>100.0</td>\n",
       "      <td>Moderate</td>\n",
       "    </tr>\n",
       "    <tr>\n",
       "      <th>2</th>\n",
       "      <td>Andhra Pradesh</td>\n",
       "      <td>Hyderabad</td>\n",
       "      <td>Residential, Rural and other Areas</td>\n",
       "      <td>6.2</td>\n",
       "      <td>28.5</td>\n",
       "      <td>78.182824</td>\n",
       "      <td>200.260378</td>\n",
       "      <td>NaN</td>\n",
       "      <td>1990-02-01</td>\n",
       "      <td>6.2</td>\n",
       "      <td>35.625</td>\n",
       "      <td>78.182824</td>\n",
       "      <td>100.0</td>\n",
       "      <td>NaN</td>\n",
       "      <td>100.0</td>\n",
       "      <td>Moderate</td>\n",
       "    </tr>\n",
       "    <tr>\n",
       "      <th>3</th>\n",
       "      <td>Andhra Pradesh</td>\n",
       "      <td>Hyderabad</td>\n",
       "      <td>Residential, Rural and other Areas</td>\n",
       "      <td>6.3</td>\n",
       "      <td>14.7</td>\n",
       "      <td>78.182824</td>\n",
       "      <td>200.260378</td>\n",
       "      <td>NaN</td>\n",
       "      <td>1990-03-01</td>\n",
       "      <td>6.3</td>\n",
       "      <td>18.375</td>\n",
       "      <td>78.182824</td>\n",
       "      <td>100.0</td>\n",
       "      <td>NaN</td>\n",
       "      <td>100.0</td>\n",
       "      <td>Moderate</td>\n",
       "    </tr>\n",
       "    <tr>\n",
       "      <th>4</th>\n",
       "      <td>Andhra Pradesh</td>\n",
       "      <td>Hyderabad</td>\n",
       "      <td>Industrial Area</td>\n",
       "      <td>4.7</td>\n",
       "      <td>7.5</td>\n",
       "      <td>78.182824</td>\n",
       "      <td>200.260378</td>\n",
       "      <td>NaN</td>\n",
       "      <td>1990-03-01</td>\n",
       "      <td>4.7</td>\n",
       "      <td>9.375</td>\n",
       "      <td>78.182824</td>\n",
       "      <td>100.0</td>\n",
       "      <td>NaN</td>\n",
       "      <td>100.0</td>\n",
       "      <td>Moderate</td>\n",
       "    </tr>\n",
       "  </tbody>\n",
       "</table>\n",
       "</div>"
      ],
      "text/plain": [
       "            state   location                                type  so2   no2  \\\n",
       "0  Andhra Pradesh  Hyderabad  Residential, Rural and other Areas  4.8  17.4   \n",
       "1  Andhra Pradesh  Hyderabad                     Industrial Area  3.1   7.0   \n",
       "2  Andhra Pradesh  Hyderabad  Residential, Rural and other Areas  6.2  28.5   \n",
       "3  Andhra Pradesh  Hyderabad  Residential, Rural and other Areas  6.3  14.7   \n",
       "4  Andhra Pradesh  Hyderabad                     Industrial Area  4.7   7.5   \n",
       "\n",
       "        rspm         spm  pm2_5        date  SOi     Noi      RSPMi   SPMi  \\\n",
       "0  78.182824  200.260378    NaN  1990-02-01  4.8  21.750  78.182824  100.0   \n",
       "1  78.182824  200.260378    NaN  1990-02-01  3.1   8.750  78.182824  100.0   \n",
       "2  78.182824  200.260378    NaN  1990-02-01  6.2  35.625  78.182824  100.0   \n",
       "3  78.182824  200.260378    NaN  1990-03-01  6.3  18.375  78.182824  100.0   \n",
       "4  78.182824  200.260378    NaN  1990-03-01  4.7   9.375  78.182824  100.0   \n",
       "\n",
       "   PMi    AQI AQI_Range  \n",
       "0  NaN  100.0  Moderate  \n",
       "1  NaN  100.0  Moderate  \n",
       "2  NaN  100.0  Moderate  \n",
       "3  NaN  100.0  Moderate  \n",
       "4  NaN  100.0  Moderate  "
      ]
     },
     "execution_count": 170,
     "metadata": {},
     "output_type": "execute_result"
    }
   ],
   "source": [
    "def AQI_Range(x):\n",
    "    if x<=50:\n",
    "        return \"Good\"\n",
    "    elif x>50 and x<=100:\n",
    "        return \"Moderate\"\n",
    "    elif x>100 and x<=200:\n",
    "        return \"Poor\"\n",
    "    elif x>200 and x<=300:\n",
    "        return \"Unhealthy\"\n",
    "    elif x>300 and x<=400:\n",
    "        return \"Very unhealthy\"\n",
    "    elif x>400:\n",
    "        return \"Hazardous\"\n",
    "\n",
    "data['AQI_Range'] = data['AQI'] .apply(AQI_Range)\n",
    "data.head()\n"
   ]
  },
  {
   "cell_type": "markdown",
   "metadata": {},
   "source": []
  },
  {
   "cell_type": "code",
   "execution_count": 171,
   "metadata": {},
   "outputs": [
    {
     "data": {
      "text/html": [
       "<div>\n",
       "<style scoped>\n",
       "    .dataframe tbody tr th:only-of-type {\n",
       "        vertical-align: middle;\n",
       "    }\n",
       "\n",
       "    .dataframe tbody tr th {\n",
       "        vertical-align: top;\n",
       "    }\n",
       "\n",
       "    .dataframe thead th {\n",
       "        text-align: right;\n",
       "    }\n",
       "</style>\n",
       "<table border=\"1\" class=\"dataframe\">\n",
       "  <thead>\n",
       "    <tr style=\"text-align: right;\">\n",
       "      <th></th>\n",
       "      <th>state</th>\n",
       "      <th>location</th>\n",
       "      <th>type</th>\n",
       "      <th>so2</th>\n",
       "      <th>no2</th>\n",
       "      <th>rspm</th>\n",
       "      <th>spm</th>\n",
       "      <th>pm2_5</th>\n",
       "      <th>date</th>\n",
       "      <th>SOi</th>\n",
       "      <th>Noi</th>\n",
       "      <th>RSPMi</th>\n",
       "      <th>SPMi</th>\n",
       "      <th>PMi</th>\n",
       "      <th>AQI</th>\n",
       "      <th>AQI_Range</th>\n",
       "    </tr>\n",
       "  </thead>\n",
       "  <tbody>\n",
       "    <tr>\n",
       "      <th>0</th>\n",
       "      <td>Andhra Pradesh</td>\n",
       "      <td>Hyderabad</td>\n",
       "      <td>Residential, Rural and other Areas</td>\n",
       "      <td>4.8</td>\n",
       "      <td>17.4</td>\n",
       "      <td>78.182824</td>\n",
       "      <td>200.260378</td>\n",
       "      <td>NaN</td>\n",
       "      <td>1990-02-01</td>\n",
       "      <td>4.8</td>\n",
       "      <td>21.750</td>\n",
       "      <td>78.182824</td>\n",
       "      <td>100.0</td>\n",
       "      <td>NaN</td>\n",
       "      <td>100.0</td>\n",
       "      <td>Moderate</td>\n",
       "    </tr>\n",
       "    <tr>\n",
       "      <th>1</th>\n",
       "      <td>Andhra Pradesh</td>\n",
       "      <td>Hyderabad</td>\n",
       "      <td>Industrial Area</td>\n",
       "      <td>3.1</td>\n",
       "      <td>7.0</td>\n",
       "      <td>78.182824</td>\n",
       "      <td>200.260378</td>\n",
       "      <td>NaN</td>\n",
       "      <td>1990-02-01</td>\n",
       "      <td>3.1</td>\n",
       "      <td>8.750</td>\n",
       "      <td>78.182824</td>\n",
       "      <td>100.0</td>\n",
       "      <td>NaN</td>\n",
       "      <td>100.0</td>\n",
       "      <td>Moderate</td>\n",
       "    </tr>\n",
       "    <tr>\n",
       "      <th>2</th>\n",
       "      <td>Andhra Pradesh</td>\n",
       "      <td>Hyderabad</td>\n",
       "      <td>Residential, Rural and other Areas</td>\n",
       "      <td>6.2</td>\n",
       "      <td>28.5</td>\n",
       "      <td>78.182824</td>\n",
       "      <td>200.260378</td>\n",
       "      <td>NaN</td>\n",
       "      <td>1990-02-01</td>\n",
       "      <td>6.2</td>\n",
       "      <td>35.625</td>\n",
       "      <td>78.182824</td>\n",
       "      <td>100.0</td>\n",
       "      <td>NaN</td>\n",
       "      <td>100.0</td>\n",
       "      <td>Moderate</td>\n",
       "    </tr>\n",
       "    <tr>\n",
       "      <th>3</th>\n",
       "      <td>Andhra Pradesh</td>\n",
       "      <td>Hyderabad</td>\n",
       "      <td>Residential, Rural and other Areas</td>\n",
       "      <td>6.3</td>\n",
       "      <td>14.7</td>\n",
       "      <td>78.182824</td>\n",
       "      <td>200.260378</td>\n",
       "      <td>NaN</td>\n",
       "      <td>1990-03-01</td>\n",
       "      <td>6.3</td>\n",
       "      <td>18.375</td>\n",
       "      <td>78.182824</td>\n",
       "      <td>100.0</td>\n",
       "      <td>NaN</td>\n",
       "      <td>100.0</td>\n",
       "      <td>Moderate</td>\n",
       "    </tr>\n",
       "    <tr>\n",
       "      <th>4</th>\n",
       "      <td>Andhra Pradesh</td>\n",
       "      <td>Hyderabad</td>\n",
       "      <td>Industrial Area</td>\n",
       "      <td>4.7</td>\n",
       "      <td>7.5</td>\n",
       "      <td>78.182824</td>\n",
       "      <td>200.260378</td>\n",
       "      <td>NaN</td>\n",
       "      <td>1990-03-01</td>\n",
       "      <td>4.7</td>\n",
       "      <td>9.375</td>\n",
       "      <td>78.182824</td>\n",
       "      <td>100.0</td>\n",
       "      <td>NaN</td>\n",
       "      <td>100.0</td>\n",
       "      <td>Moderate</td>\n",
       "    </tr>\n",
       "  </tbody>\n",
       "</table>\n",
       "</div>"
      ],
      "text/plain": [
       "            state   location                                type  so2   no2  \\\n",
       "0  Andhra Pradesh  Hyderabad  Residential, Rural and other Areas  4.8  17.4   \n",
       "1  Andhra Pradesh  Hyderabad                     Industrial Area  3.1   7.0   \n",
       "2  Andhra Pradesh  Hyderabad  Residential, Rural and other Areas  6.2  28.5   \n",
       "3  Andhra Pradesh  Hyderabad  Residential, Rural and other Areas  6.3  14.7   \n",
       "4  Andhra Pradesh  Hyderabad                     Industrial Area  4.7   7.5   \n",
       "\n",
       "        rspm         spm  pm2_5        date  SOi     Noi      RSPMi   SPMi  \\\n",
       "0  78.182824  200.260378    NaN  1990-02-01  4.8  21.750  78.182824  100.0   \n",
       "1  78.182824  200.260378    NaN  1990-02-01  3.1   8.750  78.182824  100.0   \n",
       "2  78.182824  200.260378    NaN  1990-02-01  6.2  35.625  78.182824  100.0   \n",
       "3  78.182824  200.260378    NaN  1990-03-01  6.3  18.375  78.182824  100.0   \n",
       "4  78.182824  200.260378    NaN  1990-03-01  4.7   9.375  78.182824  100.0   \n",
       "\n",
       "   PMi    AQI AQI_Range  \n",
       "0  NaN  100.0  Moderate  \n",
       "1  NaN  100.0  Moderate  \n",
       "2  NaN  100.0  Moderate  \n",
       "3  NaN  100.0  Moderate  \n",
       "4  NaN  100.0  Moderate  "
      ]
     },
     "execution_count": 171,
     "metadata": {},
     "output_type": "execute_result"
    }
   ],
   "source": [
    "d=data #saving data in new value\n",
    "d.head()"
   ]
  },
  {
   "cell_type": "markdown",
   "metadata": {},
   "source": [
    "Remove the rows with null values"
   ]
  },
  {
   "cell_type": "code",
   "execution_count": 172,
   "metadata": {
    "collapsed": true
   },
   "outputs": [],
   "source": [
    "data=data.dropna(subset=['spm']) #spm"
   ]
  },
  {
   "cell_type": "code",
   "execution_count": 173,
   "metadata": {
    "collapsed": true
   },
   "outputs": [],
   "source": [
    "data=data.dropna(subset=['pm2_5']) #spm"
   ]
  },
  {
   "cell_type": "code",
   "execution_count": 175,
   "metadata": {},
   "outputs": [
    {
     "data": {
      "text/plain": [
       "state           0\n",
       "location        0\n",
       "type         1925\n",
       "so2             0\n",
       "no2             0\n",
       "rspm            0\n",
       "spm             0\n",
       "pm2_5           0\n",
       "date            1\n",
       "SOi             0\n",
       "Noi             0\n",
       "RSPMi           0\n",
       "SPMi            0\n",
       "PMi             0\n",
       "AQI             0\n",
       "AQI_Range       0\n",
       "dtype: int64"
      ]
     },
     "execution_count": 175,
     "metadata": {},
     "output_type": "execute_result"
    }
   ],
   "source": [
    "data.isna().sum() #all null values removed "
   ]
  },
  {
   "cell_type": "markdown",
   "metadata": {},
   "source": [
    "# Linear Regression prediction"
   ]
  },
  {
   "cell_type": "markdown",
   "metadata": {},
   "source": [
    "1. Using SOi, NOi, RSPMi, SPMi TO PREDICT AQI"
   ]
  },
  {
   "cell_type": "code",
   "execution_count": 176,
   "metadata": {
    "collapsed": true
   },
   "outputs": [],
   "source": [
    "from sklearn.model_selection import train_test_split\n",
    "from sklearn.linear_model import LinearRegression\n",
    "from sklearn.metrics import mean_squared_log_error\n",
    "from sklearn.metrics import mean_squared_error\n",
    "from sklearn.metrics import r2_score, mean_squared_error\n",
    "from sklearn.model_selection import KFold\n",
    "from sklearn.model_selection import cross_val_score"
   ]
  },
  {
   "cell_type": "code",
   "execution_count": 178,
   "metadata": {},
   "outputs": [
    {
     "data": {
      "text/plain": [
       "64445    76.53653\n",
       "64446    76.53653\n",
       "64447    76.53653\n",
       "64448    76.53653\n",
       "64449    76.53653\n",
       "Name: AQI, dtype: float64"
      ]
     },
     "execution_count": 178,
     "metadata": {},
     "output_type": "execute_result"
    }
   ],
   "source": [
    "X = data[['SOi','Noi','RSPMi','SPMi']]\n",
    "y = data['AQI']\n",
    "y.head()"
   ]
  },
  {
   "cell_type": "code",
   "execution_count": 179,
   "metadata": {
    "collapsed": true
   },
   "outputs": [],
   "source": [
    "X_train, X_test, y_train, y_test = train_test_split(X,y, test_size=0.2,random_state=101)"
   ]
  },
  {
   "cell_type": "code",
   "execution_count": 180,
   "metadata": {},
   "outputs": [
    {
     "data": {
      "text/html": [
       "<div>\n",
       "<style scoped>\n",
       "    .dataframe tbody tr th:only-of-type {\n",
       "        vertical-align: middle;\n",
       "    }\n",
       "\n",
       "    .dataframe tbody tr th {\n",
       "        vertical-align: top;\n",
       "    }\n",
       "\n",
       "    .dataframe thead th {\n",
       "        text-align: right;\n",
       "    }\n",
       "</style>\n",
       "<table border=\"1\" class=\"dataframe\">\n",
       "  <thead>\n",
       "    <tr style=\"text-align: right;\">\n",
       "      <th></th>\n",
       "      <th>SOi</th>\n",
       "      <th>Noi</th>\n",
       "      <th>RSPMi</th>\n",
       "      <th>SPMi</th>\n",
       "    </tr>\n",
       "  </thead>\n",
       "  <tbody>\n",
       "    <tr>\n",
       "      <th>360028</th>\n",
       "      <td>3.0</td>\n",
       "      <td>40.000</td>\n",
       "      <td>51.0</td>\n",
       "      <td>100.0</td>\n",
       "    </tr>\n",
       "    <tr>\n",
       "      <th>434684</th>\n",
       "      <td>2.0</td>\n",
       "      <td>46.250</td>\n",
       "      <td>87.0</td>\n",
       "      <td>100.0</td>\n",
       "    </tr>\n",
       "    <tr>\n",
       "      <th>64493</th>\n",
       "      <td>10.6</td>\n",
       "      <td>23.375</td>\n",
       "      <td>115.0</td>\n",
       "      <td>210.0</td>\n",
       "    </tr>\n",
       "    <tr>\n",
       "      <th>433906</th>\n",
       "      <td>4.0</td>\n",
       "      <td>54.000</td>\n",
       "      <td>115.0</td>\n",
       "      <td>100.0</td>\n",
       "    </tr>\n",
       "    <tr>\n",
       "      <th>183595</th>\n",
       "      <td>27.5</td>\n",
       "      <td>26.000</td>\n",
       "      <td>91.0</td>\n",
       "      <td>100.0</td>\n",
       "    </tr>\n",
       "  </tbody>\n",
       "</table>\n",
       "</div>"
      ],
      "text/plain": [
       "         SOi     Noi  RSPMi   SPMi\n",
       "360028   3.0  40.000   51.0  100.0\n",
       "434684   2.0  46.250   87.0  100.0\n",
       "64493   10.6  23.375  115.0  210.0\n",
       "433906   4.0  54.000  115.0  100.0\n",
       "183595  27.5  26.000   91.0  100.0"
      ]
     },
     "execution_count": 180,
     "metadata": {},
     "output_type": "execute_result"
    }
   ],
   "source": [
    "X_train.head()"
   ]
  },
  {
   "cell_type": "code",
   "execution_count": 181,
   "metadata": {},
   "outputs": [
    {
     "data": {
      "text/plain": [
       "LinearRegression(copy_X=True, fit_intercept=True, n_jobs=1, normalize=False)"
      ]
     },
     "execution_count": 181,
     "metadata": {},
     "output_type": "execute_result"
    }
   ],
   "source": [
    "LR = LinearRegression() \n",
    "LR.fit(X_train, y_train)"
   ]
  },
  {
   "cell_type": "code",
   "execution_count": 185,
   "metadata": {},
   "outputs": [
    {
     "name": "stdout",
     "output_type": "stream",
     "text": [
      "('Intercept', -6.630147949529089)\n"
     ]
    }
   ],
   "source": [
    "print('Intercept',LR.intercept_)"
   ]
  },
  {
   "cell_type": "code",
   "execution_count": 186,
   "metadata": {},
   "outputs": [
    {
     "name": "stdout",
     "output_type": "stream",
     "text": [
      "('Coefficients', array([-0.15033925,  0.18372725,  0.22211482,  0.95248277]))\n"
     ]
    }
   ],
   "source": [
    "print('Coefficients',LR.coef_)"
   ]
  },
  {
   "cell_type": "code",
   "execution_count": 252,
   "metadata": {
    "collapsed": true
   },
   "outputs": [],
   "source": [
    "predictions = LR.predict(X_test)"
   ]
  },
  {
   "cell_type": "code",
   "execution_count": 253,
   "metadata": {},
   "outputs": [
    {
     "data": {
      "text/plain": [
       "Text(0,0.5,'Predicted Y')"
      ]
     },
     "execution_count": 253,
     "metadata": {},
     "output_type": "execute_result"
    },
    {
     "data": {
      "image/png": "[encoded data removed]",
      "text/plain": [
       "<Figure size 432x288 with 1 Axes>"
      ]
     },
     "metadata": {},
     "output_type": "display_data"
    }
   ],
   "source": [
    "plt.scatter(y_test,predictions)\n",
    "plt.xlabel('Y Test')\n",
    "plt.ylabel('Predicted Y')"
   ]
  },
  {
   "cell_type": "code",
   "execution_count": 254,
   "metadata": {},
   "outputs": [
    {
     "data": {
      "text/plain": [
       "0.9519972692632224"
      ]
     },
     "execution_count": 254,
     "metadata": {},
     "output_type": "execute_result"
    }
   ],
   "source": [
    "LR.score(X_test,y_test) "
   ]
  },
  {
   "cell_type": "code",
   "execution_count": 255,
   "metadata": {},
   "outputs": [
    {
     "data": {
      "text/plain": [
       "array([109.25750534])"
      ]
     },
     "execution_count": 255,
     "metadata": {},
     "output_type": "execute_result"
    }
   ],
   "source": [
    "LR.predict([[4.8,21.75,78.18,100]]) "
   ]
  },
  {
   "cell_type": "code",
   "execution_count": 256,
   "metadata": {},
   "outputs": [
    {
     "data": {
      "text/plain": [
       "array([82.42366343])"
      ]
     },
     "execution_count": 256,
     "metadata": {},
     "output_type": "execute_result"
    }
   ],
   "source": [
    "LR.predict([[5.2,7.625,76.53,75.0]])"
   ]
  },
  {
   "cell_type": "code",
   "execution_count": 257,
   "metadata": {},
   "outputs": [
    {
     "data": {
      "text/plain": [
       "<matplotlib.axes._subplots.AxesSubplot at 0x7f3d9d6b29d0>"
      ]
     },
     "execution_count": 257,
     "metadata": {},
     "output_type": "execute_result"
    },
    {
     "data": {
      "image/png": "[encoded data removed]",
      "text/plain": [
       "<Figure size 432x288 with 1 Axes>"
      ]
     },
     "metadata": {},
     "output_type": "display_data"
    }
   ],
   "source": [
    "sns.regplot(y_test,predictions)"
   ]
  },
  {
   "cell_type": "code",
   "execution_count": 258,
   "metadata": {},
   "outputs": [
    {
     "name": "stdout",
     "output_type": "stream",
     "text": [
      "R^2_Square:0.95 \n",
      "MSE:19.45 \n"
     ]
    }
   ],
   "source": [
    "print('R^2_Square:%.2f '% r2_score(y_test, predictions))\n",
    "print('MSE:%.2f '% np.sqrt(mean_squared_error(y_test, predictions)))"
   ]
  },
  {
   "cell_type": "markdown",
   "metadata": {},
   "source": [
    "# Linear Regression Model 2\n",
    "Using so2, no2, rspm, spm"
   ]
  },
  {
   "cell_type": "code",
   "execution_count": 195,
   "metadata": {},
   "outputs": [
    {
     "data": {
      "text/plain": [
       "435734    195.0\n",
       "435735    161.0\n",
       "435736    179.0\n",
       "435737    185.0\n",
       "435738    100.0\n",
       "Name: AQI, dtype: float64"
      ]
     },
     "execution_count": 195,
     "metadata": {},
     "output_type": "execute_result"
    }
   ],
   "source": [
    "X1= data[['so2','no2','rspm','spm']]\n",
    "y1 = data['AQI']\n",
    "y.tail()"
   ]
  },
  {
   "cell_type": "code",
   "execution_count": 196,
   "metadata": {
    "collapsed": true
   },
   "outputs": [],
   "source": [
    "X_train1, X_test1, y_train1, y_test1 = train_test_split(X1,y1, test_size=0.2,random_state=101)"
   ]
  },
  {
   "cell_type": "code",
   "execution_count": 197,
   "metadata": {},
   "outputs": [
    {
     "data": {
      "text/html": [
       "<div>\n",
       "<style scoped>\n",
       "    .dataframe tbody tr th:only-of-type {\n",
       "        vertical-align: middle;\n",
       "    }\n",
       "\n",
       "    .dataframe tbody tr th {\n",
       "        vertical-align: top;\n",
       "    }\n",
       "\n",
       "    .dataframe thead th {\n",
       "        text-align: right;\n",
       "    }\n",
       "</style>\n",
       "<table border=\"1\" class=\"dataframe\">\n",
       "  <thead>\n",
       "    <tr style=\"text-align: right;\">\n",
       "      <th></th>\n",
       "      <th>so2</th>\n",
       "      <th>no2</th>\n",
       "      <th>rspm</th>\n",
       "      <th>spm</th>\n",
       "    </tr>\n",
       "  </thead>\n",
       "  <tbody>\n",
       "    <tr>\n",
       "      <th>360028</th>\n",
       "      <td>3.0</td>\n",
       "      <td>32.0</td>\n",
       "      <td>51.0</td>\n",
       "      <td>126.729064</td>\n",
       "    </tr>\n",
       "    <tr>\n",
       "      <th>434684</th>\n",
       "      <td>2.0</td>\n",
       "      <td>37.0</td>\n",
       "      <td>87.0</td>\n",
       "      <td>233.506524</td>\n",
       "    </tr>\n",
       "    <tr>\n",
       "      <th>64493</th>\n",
       "      <td>10.6</td>\n",
       "      <td>18.7</td>\n",
       "      <td>108.0</td>\n",
       "      <td>260.000000</td>\n",
       "    </tr>\n",
       "    <tr>\n",
       "      <th>433906</th>\n",
       "      <td>4.0</td>\n",
       "      <td>44.0</td>\n",
       "      <td>108.0</td>\n",
       "      <td>233.506524</td>\n",
       "    </tr>\n",
       "    <tr>\n",
       "      <th>183595</th>\n",
       "      <td>27.5</td>\n",
       "      <td>20.8</td>\n",
       "      <td>91.0</td>\n",
       "      <td>109.000000</td>\n",
       "    </tr>\n",
       "  </tbody>\n",
       "</table>\n",
       "</div>"
      ],
      "text/plain": [
       "         so2   no2   rspm         spm\n",
       "360028   3.0  32.0   51.0  126.729064\n",
       "434684   2.0  37.0   87.0  233.506524\n",
       "64493   10.6  18.7  108.0  260.000000\n",
       "433906   4.0  44.0  108.0  233.506524\n",
       "183595  27.5  20.8   91.0  109.000000"
      ]
     },
     "execution_count": 197,
     "metadata": {},
     "output_type": "execute_result"
    }
   ],
   "source": [
    "X_train1.head()"
   ]
  },
  {
   "cell_type": "code",
   "execution_count": 198,
   "metadata": {},
   "outputs": [
    {
     "data": {
      "text/plain": [
       "LinearRegression(copy_X=True, fit_intercept=True, n_jobs=1, normalize=False)"
      ]
     },
     "execution_count": 198,
     "metadata": {},
     "output_type": "execute_result"
    }
   ],
   "source": [
    "LR1 = LinearRegression()\n",
    "start = timeit.default_timer()\n",
    "LR1.fit(X_train1, y_train1)\n",
    "stop = timeit.default_timer()\n",
    "\n",
    "print('Model Training Time: ', stop - start)  \n"
   ]
  },
  {
   "cell_type": "code",
   "execution_count": 199,
   "metadata": {
    "collapsed": true
   },
   "outputs": [],
   "source": [
    "prediction1 = LR1.predict(X_test1)"
   ]
  },
  {
   "cell_type": "code",
   "execution_count": 261,
   "metadata": {},
   "outputs": [
    {
     "data": {
      "text/plain": [
       "Text(0,0.5,'Predicted Y')"
      ]
     },
     "execution_count": 261,
     "metadata": {},
     "output_type": "execute_result"
    },
    {
     "data": {
      "image/png": "[encoded data removed]",
      "text/plain": [
       "<Figure size 432x288 with 1 Axes>"
      ]
     },
     "metadata": {},
     "output_type": "display_data"
    }
   ],
   "source": [
    "plt.scatter(y_test1,prediction1) #scatter plot for actual and predicted values\n",
    "plt.xlabel('Y Test')\n",
    "plt.ylabel('Predicted Y')"
   ]
  },
  {
   "cell_type": "code",
   "execution_count": 202,
   "metadata": {},
   "outputs": [
    {
     "data": {
      "text/plain": [
       "array([123.07027136])"
      ]
     },
     "execution_count": 202,
     "metadata": {},
     "output_type": "execute_result"
    }
   ],
   "source": [
    "LR1.predict([[9.1,16.3,67,179]])"
   ]
  },
  {
   "cell_type": "code",
   "execution_count": 204,
   "metadata": {},
   "outputs": [
    {
     "data": {
      "text/plain": [
       "<matplotlib.axes._subplots.AxesSubplot at 0x7f3d9d725a10>"
      ]
     },
     "execution_count": 204,
     "metadata": {},
     "output_type": "execute_result"
    },
    {
     "data": {
      "image/png": "[encoded data removed]",
      "text/plain": [
       "<Figure size 432x288 with 1 Axes>"
      ]
     },
     "metadata": {},
     "output_type": "display_data"
    }
   ],
   "source": [
    "sns.regplot(y_test1,prediction1) #regression plot"
   ]
  },
  {
   "cell_type": "code",
   "execution_count": 205,
   "metadata": {},
   "outputs": [],
   "source": [
    "y_test1_np= np.array(y_test1)\n",
    "prediction1_np = np.array(prediction1)"
   ]
  },
  {
   "cell_type": "code",
   "execution_count": 259,
   "metadata": {},
   "outputs": [
    {
     "data": {
      "text/plain": [
       "0.7682802659881813"
      ]
     },
     "execution_count": 259,
     "metadata": {},
     "output_type": "execute_result"
    }
   ],
   "source": [
    "LR1.score(X_test1,y_test1) #accuracy score 76.82%"
   ]
  },
  {
   "cell_type": "markdown",
   "metadata": {},
   "source": [
    "Mean Squared error, R^2 sqaured"
   ]
  },
  {
   "cell_type": "code",
   "execution_count": 260,
   "metadata": {},
   "outputs": [
    {
     "name": "stdout",
     "output_type": "stream",
     "text": [
      "R^2_Square:0.77 \n",
      "MSE:42.73 \n"
     ]
    }
   ],
   "source": [
    "print('R^2_Square:%.2f '% r2_score(y_test1, prediction1))\n",
    "print('MSE:%.2f '% np.sqrt(mean_squared_error(y_test1, prediction1)))"
   ]
  },
  {
   "cell_type": "markdown",
   "metadata": {},
   "source": [
    "# Classification of AQI"
   ]
  },
  {
   "cell_type": "markdown",
   "metadata": {},
   "source": [
    "## Logistic Regression"
   ]
  },
  {
   "cell_type": "markdown",
   "metadata": {},
   "source": [
    "1.Using SOi, Noi, RSPMi, SPMi\n",
    "    "
   ]
  },
  {
   "cell_type": "code",
   "execution_count": 211,
   "metadata": {
    "collapsed": true
   },
   "outputs": [],
   "source": [
    "from sklearn.linear_model import LogisticRegression"
   ]
  },
  {
   "cell_type": "code",
   "execution_count": 213,
   "metadata": {
    "collapsed": true
   },
   "outputs": [],
   "source": [
    "X2 = data[['SOi','Noi','RSPMi','SPMi']]\n",
    "y2 = data['AQI_Range']"
   ]
  },
  {
   "cell_type": "code",
   "execution_count": 214,
   "metadata": {
    "collapsed": true
   },
   "outputs": [],
   "source": [
    "X_train2, X_test2, y_train2, y_test2 = train_test_split(X2, y2, test_size=0.33, random_state=42)"
   ]
  },
  {
   "cell_type": "code",
   "execution_count": 215,
   "metadata": {},
   "outputs": [
    {
     "data": {
      "text/plain": [
       "LogisticRegression(C=1.0, class_weight=None, dual=False, fit_intercept=True,\n",
       "          intercept_scaling=1, max_iter=100, multi_class='ovr', n_jobs=1,\n",
       "          penalty='l2', random_state=None, solver='liblinear', tol=0.0001,\n",
       "          verbose=0, warm_start=False)"
      ]
     },
     "execution_count": 215,
     "metadata": {},
     "output_type": "execute_result"
    }
   ],
   "source": [
    "logmodel = LogisticRegression()\n",
    "logmodel.fit(X_train2,y_train2)"
   ]
  },
  {
   "cell_type": "code",
   "execution_count": 216,
   "metadata": {
    "collapsed": true
   },
   "outputs": [],
   "source": [
    "predictions = logmodel.predict(X_test)"
   ]
  },
  {
   "cell_type": "code",
   "execution_count": 218,
   "metadata": {},
   "outputs": [
    {
     "data": {
      "text/plain": [
       "0.8925452474370333"
      ]
     },
     "execution_count": 218,
     "metadata": {},
     "output_type": "execute_result"
    }
   ],
   "source": [
    "logmodel.score(X_test2,y_test2) #accuracy score 89.25 %"
   ]
  },
  {
   "cell_type": "markdown",
   "metadata": {},
   "source": [
    "Creating new csv file to store AQI range values inorder to cross verify predicted value"
   ]
  },
  {
   "cell_type": "code",
   "execution_count": 220,
   "metadata": {},
   "outputs": [],
   "source": [
    "new = pd.DataFrame(d)\n",
    "file1 = 'new1.csv'\n",
    "new.to_csv(file1,index=True)"
   ]
  },
  {
   "cell_type": "code",
   "execution_count": 221,
   "metadata": {},
   "outputs": [
    {
     "data": {
      "text/html": [
       "<div>\n",
       "<style scoped>\n",
       "    .dataframe tbody tr th:only-of-type {\n",
       "        vertical-align: middle;\n",
       "    }\n",
       "\n",
       "    .dataframe tbody tr th {\n",
       "        vertical-align: top;\n",
       "    }\n",
       "\n",
       "    .dataframe thead th {\n",
       "        text-align: right;\n",
       "    }\n",
       "</style>\n",
       "<table border=\"1\" class=\"dataframe\">\n",
       "  <thead>\n",
       "    <tr style=\"text-align: right;\">\n",
       "      <th></th>\n",
       "      <th>state</th>\n",
       "      <th>location</th>\n",
       "      <th>type</th>\n",
       "      <th>so2</th>\n",
       "      <th>no2</th>\n",
       "      <th>rspm</th>\n",
       "      <th>spm</th>\n",
       "      <th>pm2_5</th>\n",
       "      <th>date</th>\n",
       "      <th>SOi</th>\n",
       "      <th>Noi</th>\n",
       "      <th>RSPMi</th>\n",
       "      <th>SPMi</th>\n",
       "      <th>PMi</th>\n",
       "      <th>AQI</th>\n",
       "      <th>AQI_Range</th>\n",
       "    </tr>\n",
       "  </thead>\n",
       "  <tbody>\n",
       "    <tr>\n",
       "      <th>435737</th>\n",
       "      <td>West Bengal</td>\n",
       "      <td>ULUBERIA</td>\n",
       "      <td>RIRUO</td>\n",
       "      <td>22.0</td>\n",
       "      <td>50.0</td>\n",
       "      <td>143.0</td>\n",
       "      <td>233.506524</td>\n",
       "      <td>64.890625</td>\n",
       "      <td>2015-12-24</td>\n",
       "      <td>22.0</td>\n",
       "      <td>60.0</td>\n",
       "      <td>185.0</td>\n",
       "      <td>100.0</td>\n",
       "      <td>64.890625</td>\n",
       "      <td>185.0</td>\n",
       "      <td>Poor</td>\n",
       "    </tr>\n",
       "    <tr>\n",
       "      <th>435738</th>\n",
       "      <td>West Bengal</td>\n",
       "      <td>ULUBERIA</td>\n",
       "      <td>RIRUO</td>\n",
       "      <td>20.0</td>\n",
       "      <td>46.0</td>\n",
       "      <td>171.0</td>\n",
       "      <td>233.506524</td>\n",
       "      <td>64.890625</td>\n",
       "      <td>2015-12-29</td>\n",
       "      <td>20.0</td>\n",
       "      <td>56.0</td>\n",
       "      <td>0.0</td>\n",
       "      <td>100.0</td>\n",
       "      <td>64.890625</td>\n",
       "      <td>100.0</td>\n",
       "      <td>Moderate</td>\n",
       "    </tr>\n",
       "    <tr>\n",
       "      <th>435739</th>\n",
       "      <td>andaman-and-nicobar-islands</td>\n",
       "      <td>NaN</td>\n",
       "      <td>NaN</td>\n",
       "      <td>NaN</td>\n",
       "      <td>NaN</td>\n",
       "      <td>NaN</td>\n",
       "      <td>NaN</td>\n",
       "      <td>NaN</td>\n",
       "      <td>NaN</td>\n",
       "      <td>0.0</td>\n",
       "      <td>NaN</td>\n",
       "      <td>0.0</td>\n",
       "      <td>NaN</td>\n",
       "      <td>NaN</td>\n",
       "      <td>0.0</td>\n",
       "      <td>Good</td>\n",
       "    </tr>\n",
       "    <tr>\n",
       "      <th>435740</th>\n",
       "      <td>Lakshadweep</td>\n",
       "      <td>NaN</td>\n",
       "      <td>NaN</td>\n",
       "      <td>NaN</td>\n",
       "      <td>NaN</td>\n",
       "      <td>NaN</td>\n",
       "      <td>NaN</td>\n",
       "      <td>NaN</td>\n",
       "      <td>NaN</td>\n",
       "      <td>0.0</td>\n",
       "      <td>NaN</td>\n",
       "      <td>0.0</td>\n",
       "      <td>NaN</td>\n",
       "      <td>NaN</td>\n",
       "      <td>0.0</td>\n",
       "      <td>Good</td>\n",
       "    </tr>\n",
       "    <tr>\n",
       "      <th>435741</th>\n",
       "      <td>Tripura</td>\n",
       "      <td>NaN</td>\n",
       "      <td>NaN</td>\n",
       "      <td>NaN</td>\n",
       "      <td>NaN</td>\n",
       "      <td>NaN</td>\n",
       "      <td>NaN</td>\n",
       "      <td>NaN</td>\n",
       "      <td>NaN</td>\n",
       "      <td>0.0</td>\n",
       "      <td>NaN</td>\n",
       "      <td>0.0</td>\n",
       "      <td>NaN</td>\n",
       "      <td>NaN</td>\n",
       "      <td>0.0</td>\n",
       "      <td>Good</td>\n",
       "    </tr>\n",
       "  </tbody>\n",
       "</table>\n",
       "</div>"
      ],
      "text/plain": [
       "                              state  location   type   so2   no2   rspm  \\\n",
       "435737                  West Bengal  ULUBERIA  RIRUO  22.0  50.0  143.0   \n",
       "435738                  West Bengal  ULUBERIA  RIRUO  20.0  46.0  171.0   \n",
       "435739  andaman-and-nicobar-islands       NaN    NaN   NaN   NaN    NaN   \n",
       "435740                  Lakshadweep       NaN    NaN   NaN   NaN    NaN   \n",
       "435741                      Tripura       NaN    NaN   NaN   NaN    NaN   \n",
       "\n",
       "               spm      pm2_5        date   SOi   Noi  RSPMi   SPMi  \\\n",
       "435737  233.506524  64.890625  2015-12-24  22.0  60.0  185.0  100.0   \n",
       "435738  233.506524  64.890625  2015-12-29  20.0  56.0    0.0  100.0   \n",
       "435739         NaN        NaN         NaN   0.0   NaN    0.0    NaN   \n",
       "435740         NaN        NaN         NaN   0.0   NaN    0.0    NaN   \n",
       "435741         NaN        NaN         NaN   0.0   NaN    0.0    NaN   \n",
       "\n",
       "              PMi    AQI AQI_Range  \n",
       "435737  64.890625  185.0      Poor  \n",
       "435738  64.890625  100.0  Moderate  \n",
       "435739        NaN    0.0      Good  \n",
       "435740        NaN    0.0      Good  \n",
       "435741        NaN    0.0      Good  "
      ]
     },
     "execution_count": 221,
     "metadata": {},
     "output_type": "execute_result"
    }
   ],
   "source": [
    "d.tail()"
   ]
  },
  {
   "cell_type": "code",
   "execution_count": 224,
   "metadata": {},
   "outputs": [
    {
     "data": {
      "text/plain": [
       "array(['Poor'], dtype=object)"
      ]
     },
     "execution_count": 224,
     "metadata": {},
     "output_type": "execute_result"
    }
   ],
   "source": [
    "logmodel.predict([[77.4,147.7,78.182,100]]) #correct"
   ]
  },
  {
   "cell_type": "code",
   "execution_count": 225,
   "metadata": {},
   "outputs": [
    {
     "data": {
      "text/plain": [
       "array(['Unhealthy'], dtype=object)"
      ]
     },
     "execution_count": 225,
     "metadata": {},
     "output_type": "execute_result"
    }
   ],
   "source": [
    "logmodel.predict([[32.7,35,78.182,203]]) #correct"
   ]
  },
  {
   "cell_type": "code",
   "execution_count": 226,
   "metadata": {},
   "outputs": [
    {
     "data": {
      "text/plain": [
       "array(['Very unhealthy'], dtype=object)"
      ]
     },
     "execution_count": 226,
     "metadata": {},
     "output_type": "execute_result"
    }
   ],
   "source": [
    "logmodel.predict([[100,182.2,78.182,400]]) #correct"
   ]
  },
  {
   "cell_type": "markdown",
   "metadata": {},
   "source": [
    "# Logistic regression model 2"
   ]
  },
  {
   "cell_type": "markdown",
   "metadata": {},
   "source": [
    "2.Using so2,no2,rspm,spm"
   ]
  },
  {
   "cell_type": "code",
   "execution_count": 228,
   "metadata": {
    "collapsed": true
   },
   "outputs": [],
   "source": [
    "X3 = data[['so2','no2','rspm','spm']]\n",
    "y3 = data['AQI_Range']"
   ]
  },
  {
   "cell_type": "code",
   "execution_count": 229,
   "metadata": {
    "collapsed": true
   },
   "outputs": [],
   "source": [
    "X_train3, X_test3, y_train3, y_test3 = train_test_split(X3, y3, test_size=0.33, random_state=42)"
   ]
  },
  {
   "cell_type": "code",
   "execution_count": 230,
   "metadata": {},
   "outputs": [
    {
     "data": {
      "text/plain": [
       "LogisticRegression(C=1.0, class_weight=None, dual=False, fit_intercept=True,\n",
       "          intercept_scaling=1, max_iter=100, multi_class='ovr', n_jobs=1,\n",
       "          penalty='l2', random_state=None, solver='liblinear', tol=0.0001,\n",
       "          verbose=0, warm_start=False)"
      ]
     },
     "execution_count": 230,
     "metadata": {},
     "output_type": "execute_result"
    }
   ],
   "source": [
    "logmodel2 = LogisticRegression()\n",
    "start = timeit.default_timer()\n",
    "logmodel2.fit(X_train3,y_train3)\n",
    "stop = timeit.default_timer()\n",
    "\n",
    "print('Model Training Time: ', stop - start)  \n"
   ]
  },
  {
   "cell_type": "code",
   "execution_count": 232,
   "metadata": {},
   "outputs": [
    {
     "data": {
      "text/plain": [
       "0.696291608657132"
      ]
     },
     "execution_count": 232,
     "metadata": {},
     "output_type": "execute_result"
    }
   ],
   "source": [
    "logmodel2.score(X_test3,y_test3) #very low accuracy score"
   ]
  },
  {
   "cell_type": "code",
   "execution_count": 233,
   "metadata": {},
   "outputs": [
    {
     "data": {
      "text/plain": [
       "array(['Moderate'], dtype=object)"
      ]
     },
     "execution_count": 233,
     "metadata": {},
     "output_type": "execute_result"
    }
   ],
   "source": [
    "logmodel2.predict([[4.8,17.4,78.48,200]]) #correct"
   ]
  },
  {
   "cell_type": "code",
   "execution_count": 236,
   "metadata": {},
   "outputs": [
    {
     "data": {
      "text/plain": [
       "array(['Poor'], dtype=object)"
      ]
     },
     "execution_count": 236,
     "metadata": {},
     "output_type": "execute_result"
    }
   ],
   "source": [
    "logmodel2.predict([[67.4,127.7,78.48,215]]) #correct"
   ]
  },
  {
   "cell_type": "code",
   "execution_count": 237,
   "metadata": {},
   "outputs": [
    {
     "data": {
      "text/plain": [
       "array(['Moderate'], dtype=object)"
      ]
     },
     "execution_count": 237,
     "metadata": {},
     "output_type": "execute_result"
    }
   ],
   "source": [
    "logmodel2.predict([[2.059,8.94,102,256]])  #wrong"
   ]
  },
  {
   "cell_type": "markdown",
   "metadata": {},
   "source": [
    "#  Using Random forest classifier"
   ]
  },
  {
   "cell_type": "code",
   "execution_count": 238,
   "metadata": {
    "collapsed": true
   },
   "outputs": [],
   "source": [
    "from sklearn.ensemble import RandomForestClassifier"
   ]
  },
  {
   "cell_type": "code",
   "execution_count": 239,
   "metadata": {},
   "outputs": [
    {
     "data": {
      "text/plain": [
       "RandomForestClassifier(bootstrap=True, class_weight=None, criterion='gini',\n",
       "            max_depth=None, max_features='auto', max_leaf_nodes=None,\n",
       "            min_impurity_decrease=0.0, min_impurity_split=None,\n",
       "            min_samples_leaf=1, min_samples_split=2,\n",
       "            min_weight_fraction_leaf=0.0, n_estimators=10, n_jobs=1,\n",
       "            oob_score=False, random_state=None, verbose=0,\n",
       "            warm_start=False)"
      ]
     },
     "execution_count": 239,
     "metadata": {},
     "output_type": "execute_result"
    }
   ],
   "source": [
    "model = RandomForestClassifier(n_estimators=10)\n",
    "model.fit(X_train3,y_train3)"
   ]
  },
  {
   "cell_type": "code",
   "execution_count": 241,
   "metadata": {},
   "outputs": [
    {
     "data": {
      "text/plain": [
       "0.9997215542336413"
      ]
     },
     "execution_count": 241,
     "metadata": {},
     "output_type": "execute_result"
    }
   ],
   "source": [
    "model.score(X_test3,y_test3) #high accuracy score of 99.97 %"
   ]
  },
  {
   "cell_type": "code",
   "execution_count": 242,
   "metadata": {},
   "outputs": [
    {
     "data": {
      "text/html": [
       "<div>\n",
       "<style scoped>\n",
       "    .dataframe tbody tr th:only-of-type {\n",
       "        vertical-align: middle;\n",
       "    }\n",
       "\n",
       "    .dataframe tbody tr th {\n",
       "        vertical-align: top;\n",
       "    }\n",
       "\n",
       "    .dataframe thead th {\n",
       "        text-align: right;\n",
       "    }\n",
       "</style>\n",
       "<table border=\"1\" class=\"dataframe\">\n",
       "  <thead>\n",
       "    <tr style=\"text-align: right;\">\n",
       "      <th></th>\n",
       "      <th>so2</th>\n",
       "      <th>no2</th>\n",
       "      <th>rspm</th>\n",
       "      <th>spm</th>\n",
       "    </tr>\n",
       "  </thead>\n",
       "  <tbody>\n",
       "    <tr>\n",
       "      <th>360294</th>\n",
       "      <td>4.000000</td>\n",
       "      <td>24.0</td>\n",
       "      <td>23.000000</td>\n",
       "      <td>126.729064</td>\n",
       "    </tr>\n",
       "    <tr>\n",
       "      <th>278096</th>\n",
       "      <td>5.800000</td>\n",
       "      <td>11.1</td>\n",
       "      <td>129.000000</td>\n",
       "      <td>262.000000</td>\n",
       "    </tr>\n",
       "    <tr>\n",
       "      <th>277941</th>\n",
       "      <td>2.900000</td>\n",
       "      <td>26.3</td>\n",
       "      <td>72.000000</td>\n",
       "      <td>140.000000</td>\n",
       "    </tr>\n",
       "    <tr>\n",
       "      <th>269637</th>\n",
       "      <td>18.300000</td>\n",
       "      <td>28.6</td>\n",
       "      <td>83.619824</td>\n",
       "      <td>155.000000</td>\n",
       "    </tr>\n",
       "    <tr>\n",
       "      <th>272765</th>\n",
       "      <td>5.275874</td>\n",
       "      <td>12.7</td>\n",
       "      <td>80.000000</td>\n",
       "      <td>176.000000</td>\n",
       "    </tr>\n",
       "  </tbody>\n",
       "</table>\n",
       "</div>"
      ],
      "text/plain": [
       "              so2   no2        rspm         spm\n",
       "360294   4.000000  24.0   23.000000  126.729064\n",
       "278096   5.800000  11.1  129.000000  262.000000\n",
       "277941   2.900000  26.3   72.000000  140.000000\n",
       "269637  18.300000  28.6   83.619824  155.000000\n",
       "272765   5.275874  12.7   80.000000  176.000000"
      ]
     },
     "execution_count": 242,
     "metadata": {},
     "output_type": "execute_result"
    }
   ],
   "source": [
    "X_train3.head()"
   ]
  },
  {
   "cell_type": "code",
   "execution_count": 244,
   "metadata": {},
   "outputs": [
    {
     "data": {
      "text/plain": [
       "array(['Unhealthy'], dtype=object)"
      ]
     },
     "execution_count": 244,
     "metadata": {},
     "output_type": "execute_result"
    }
   ],
   "source": [
    "model.predict([[2.059,8.94,102,256]]) #correct"
   ]
  },
  {
   "cell_type": "markdown",
   "metadata": {},
   "source": [
    "# Using Decision Tree Classifier"
   ]
  },
  {
   "cell_type": "code",
   "execution_count": 245,
   "metadata": {
    "collapsed": true
   },
   "outputs": [],
   "source": [
    "from sklearn import tree"
   ]
  },
  {
   "cell_type": "code",
   "execution_count": 246,
   "metadata": {
    "collapsed": true
   },
   "outputs": [],
   "source": [
    "model2 = tree.DecisionTreeClassifier()"
   ]
  },
  {
   "cell_type": "code",
   "execution_count": 247,
   "metadata": {},
   "outputs": [
    {
     "data": {
      "text/plain": [
       "DecisionTreeClassifier(class_weight=None, criterion='gini', max_depth=None,\n",
       "            max_features=None, max_leaf_nodes=None,\n",
       "            min_impurity_decrease=0.0, min_impurity_split=None,\n",
       "            min_samples_leaf=1, min_samples_split=2,\n",
       "            min_weight_fraction_leaf=0.0, presort=False, random_state=None,\n",
       "            splitter='best')"
      ]
     },
     "execution_count": 247,
     "metadata": {},
     "output_type": "execute_result"
    }
   ],
   "source": [
    "model2.fit(X_train3,y_train3)"
   ]
  },
  {
   "cell_type": "code",
   "execution_count": 249,
   "metadata": {},
   "outputs": [
    {
     "data": {
      "text/plain": [
       "0.9998228072395899"
      ]
     },
     "execution_count": 249,
     "metadata": {},
     "output_type": "execute_result"
    }
   ],
   "source": [
    "model2.score(X_test3,y_test3) #high accuracy score of 99.98%"
   ]
  },
  {
   "cell_type": "markdown",
   "metadata": {},
   "source": [
    "Some predictions"
   ]
  },
  {
   "cell_type": "code",
   "execution_count": 272,
   "metadata": {},
   "outputs": [
    {
     "data": {
      "text/plain": [
       "array(['Moderate'], dtype=object)"
      ]
     },
     "execution_count": 272,
     "metadata": {},
     "output_type": "execute_result"
    }
   ],
   "source": [
    "model2.predict([[9,31,51,205.25]]) # correct"
   ]
  },
  {
   "cell_type": "code",
   "execution_count": 273,
   "metadata": {},
   "outputs": [
    {
     "data": {
      "text/plain": [
       "array(['Good'], dtype=object)"
      ]
     },
     "execution_count": 273,
     "metadata": {},
     "output_type": "execute_result"
    }
   ],
   "source": [
    "model2.predict([[2,5.8,17,36]]) # correct"
   ]
  },
  {
   "cell_type": "code",
   "execution_count": 274,
   "metadata": {},
   "outputs": [
    {
     "data": {
      "text/plain": [
       "array(['Unhealthy'], dtype=object)"
      ]
     },
     "execution_count": 274,
     "metadata": {},
     "output_type": "execute_result"
    }
   ],
   "source": [
    "model2.predict([[18.6,48.3,142,285]]) # correct"
   ]
  },
  {
   "cell_type": "code",
   "execution_count": 275,
   "metadata": {},
   "outputs": [
    {
     "data": {
      "text/plain": [
       "array(['Poor'], dtype=object)"
      ]
     },
     "execution_count": 275,
     "metadata": {},
     "output_type": "execute_result"
    }
   ],
   "source": [
    "model2.predict([[6,11,109,84.41]]) # correct"
   ]
  },
  {
   "cell_type": "code",
   "execution_count": 276,
   "metadata": {},
   "outputs": [
    {
     "data": {
      "text/plain": [
       "array(['Very unhealthy'], dtype=object)"
      ]
     },
     "execution_count": 276,
     "metadata": {},
     "output_type": "execute_result"
    }
   ],
   "source": [
    "model2.predict([[10,16,156,372.66]]) # correct"
   ]
  },
  {
   "cell_type": "markdown",
   "metadata": {},
   "source": [
    "<h1>Conclusion</h1>\n",
    "<p>\n",
    "<li>AQI is highly correlated with all the independent variables(so2, no2, rspm, spm)</li>\n",
    "<li>AQI has been increasing over the years.</li>\n",
    "<h4>Best models for AQI range classification :</h4>\n",
    "<ol>\n",
    "<li>Random Forest Classifier</li>\n",
    "<li>Decision Tree Classifier</li>\n",
    "</ol>\n",
    "</p>\n",
    "\n"
   ]
  },
  {
   "cell_type": "code",
   "execution_count": null,
   "metadata": {
    "collapsed": true
   },
   "outputs": [],
   "source": []
  }
 ],
 "metadata": {
  "kernelspec": {
   "display_name": "Python 3",
   "language": "python",
   "name": "python3"
  },
  "language_info": {
   "codemirror_mode": {
    "name": "ipython",
    "version": 3
   },
   "file_extension": ".py",
   "mimetype": "text/x-python",
   "name": "python",
   "nbconvert_exporter": "python",
   "pygments_lexer": "ipython3",
   "version": "3.9.5"
  }
 },
 "nbformat": 4,
 "nbformat_minor": 1
}
